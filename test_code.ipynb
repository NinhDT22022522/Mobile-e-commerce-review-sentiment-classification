{
 "cells": [
  {
   "cell_type": "code",
   "execution_count": 2,
   "metadata": {},
   "outputs": [],
   "source": [
    "import numpy as np"
   ]
  },
  {
   "cell_type": "code",
   "execution_count": 4,
   "metadata": {},
   "outputs": [
    {
     "name": "stdout",
     "output_type": "stream",
     "text": [
      "[[30.35650039  4.24780313  5.88492429  2.59262044 15.86656414  7.61556932\n",
      "  25.51639005  0.76197922  2.92413167  4.23351735]]\n",
      "100.00000000000001\n"
     ]
    }
   ],
   "source": [
    "print(np.random.dirichlet(np.ones(10), size=1) * 100)\n",
    "print(sum(np.random.dirichlet(np.ones(10), size=1)[0] * 100))"
   ]
  },
  {
   "cell_type": "code",
   "execution_count": 5,
   "metadata": {},
   "outputs": [
    {
     "ename": "AttributeError",
     "evalue": "'str' object has no attribute 'append'",
     "output_type": "error",
     "traceback": [
      "\u001b[1;31m---------------------------------------------------------------------------\u001b[0m",
      "\u001b[1;31mAttributeError\u001b[0m                            Traceback (most recent call last)",
      "Cell \u001b[1;32mIn[5], line 6\u001b[0m\n\u001b[0;32m      4\u001b[0m \u001b[38;5;28;01mfor\u001b[39;00m aspect \u001b[38;5;129;01min\u001b[39;00m aspects:\n\u001b[0;32m      5\u001b[0m     aspect_ratio \u001b[38;5;241m=\u001b[39m np\u001b[38;5;241m.\u001b[39mrandom\u001b[38;5;241m.\u001b[39mdirichlet(np\u001b[38;5;241m.\u001b[39mones(\u001b[38;5;241m3\u001b[39m), size\u001b[38;5;241m=\u001b[39m\u001b[38;5;241m1\u001b[39m) \u001b[38;5;241m*\u001b[39m \u001b[38;5;241m100\u001b[39m\n\u001b[1;32m----> 6\u001b[0m     \u001b[43maspects\u001b[49m\u001b[43m[\u001b[49m\u001b[43maspects\u001b[49m\u001b[38;5;241;43m.\u001b[39;49m\u001b[43mindex\u001b[49m\u001b[43m(\u001b[49m\u001b[43maspect\u001b[49m\u001b[43m)\u001b[49m\u001b[43m]\u001b[49m\u001b[38;5;241;43m.\u001b[39;49m\u001b[43mappend\u001b[49m(aspect_ratio)\n\u001b[0;32m      7\u001b[0m \u001b[38;5;28mprint\u001b[39m(aspects\u001b[38;5;241m.\u001b[39mshape)\n",
      "\u001b[1;31mAttributeError\u001b[0m: 'str' object has no attribute 'append'"
     ]
    }
   ],
   "source": [
    "aspects = ['General', 'Battery', 'Performance', 'Camera', 'Ser&Acc', 'Others', 'Design', 'Screen', 'Features', 'Price']\n",
    "aspects_ratio = np.random.dirichlet(np.ones(10), size=1) * 100\n",
    "\n",
    "for aspect in aspects:\n",
    "    aspect_ratio = np.random.dirichlet(np.ones(3), size=1) * 100\n",
    "    aspects[aspects.index(aspect)].append(aspect_ratio)\n",
    "print(aspects.shape)"
   ]
  },
  {
   "cell_type": "code",
   "execution_count": 6,
   "metadata": {},
   "outputs": [
    {
     "name": "stdout",
     "output_type": "stream",
     "text": [
      "General\n",
      "Ratio: 6.808087365416124\n",
      "Sub-Aspects:\n",
      "\tPositive: 34.5464055781066\n",
      "\tNegative: 0.8591208770894107\n",
      "\tNeutral: 64.59447354480399\n",
      "\n",
      "Battery\n",
      "Ratio: 10.94952920115227\n",
      "Sub-Aspects:\n",
      "\tPositive: 13.262305462388843\n",
      "\tNegative: 70.05093461663132\n",
      "\tNeutral: 16.686759920979842\n",
      "\n",
      "Performance\n",
      "Ratio: 7.829457244011224\n",
      "Sub-Aspects:\n",
      "\tPositive: 11.093869920716665\n",
      "\tNegative: 1.5128436832638013\n",
      "\tNeutral: 87.39328639601953\n",
      "\n",
      "Camera\n",
      "Ratio: 1.677476940276998\n",
      "Sub-Aspects:\n",
      "\tPositive: 56.60175058240892\n",
      "\tNegative: 4.120050358592316\n",
      "\tNeutral: 39.27819905899877\n",
      "\n",
      "Ser&Acc\n",
      "Ratio: 14.781991953233382\n",
      "Sub-Aspects:\n",
      "\tPositive: 13.876376475140956\n",
      "\tNegative: 39.21499862269403\n",
      "\tNeutral: 46.908624902164995\n",
      "\n",
      "Others\n",
      "Ratio: 27.78826507107136\n",
      "Sub-Aspects:\n",
      "\tPositive: 93.99060249966486\n",
      "\tNegative: 2.1641807068474717\n",
      "\tNeutral: 3.845216793487665\n",
      "\n",
      "Design\n",
      "Ratio: 2.553935181729655\n",
      "Sub-Aspects:\n",
      "\tPositive: 73.3479685928765\n",
      "\tNegative: 12.100440926248163\n",
      "\tNeutral: 14.551590480875328\n",
      "\n",
      "Screen\n",
      "Ratio: 11.46647144929124\n",
      "Sub-Aspects:\n",
      "\tPositive: 8.878566435931504\n",
      "\tNegative: 90.91356711879676\n",
      "\tNeutral: 0.20786644527174364\n",
      "\n",
      "Features\n",
      "Ratio: 3.210535610351658\n",
      "Sub-Aspects:\n",
      "\tPositive: 6.1511329438560765\n",
      "\tNegative: 50.536918060724275\n",
      "\tNeutral: 43.31194899541964\n",
      "\n",
      "Price\n",
      "Ratio: 12.934249983466085\n",
      "Sub-Aspects:\n",
      "\tPositive: 25.2116867764469\n",
      "\tNegative: 8.511194297876136\n",
      "\tNeutral: 66.27711892567696\n",
      "\n"
     ]
    }
   ],
   "source": [
    "aspects = ['General', 'Battery', 'Performance', 'Camera', 'Ser&Acc', 'Others', 'Design', 'Screen', 'Features', 'Price']\n",
    "\n",
    "# Tạo một từ điển để lưu trữ thông tin về mỗi khía cạnh\n",
    "aspects_info = {}\n",
    "\n",
    "# Tạo tỷ lệ ngẫu nhiên cho mỗi khía cạnh\n",
    "aspects_ratio = np.random.dirichlet(np.ones(10), size=1) * 100\n",
    "\n",
    "for aspect, ratio in zip(aspects, aspects_ratio[0]):\n",
    "    aspects_info[aspect] = {'ratio': ratio}\n",
    "\n",
    "# Thêm thông tin về các khía cạnh phụ\n",
    "for aspect in aspects:\n",
    "    sub_aspects_ratio = np.random.dirichlet(np.ones(3), size=1) * 100\n",
    "    sub_aspects = ['Positive', 'Negative', 'Neutral']\n",
    "    aspects_info[aspect]['sub_aspects'] = {sub_aspect: sub_ratio for sub_aspect, sub_ratio in zip(sub_aspects, sub_aspects_ratio[0])}\n",
    "\n",
    "# Hiển thị thông tin\n",
    "for aspect, info in aspects_info.items():\n",
    "    print(aspect)\n",
    "    print(\"Ratio:\", info['ratio'])\n",
    "    print(\"Sub-Aspects:\")\n",
    "    for sub_aspect, sub_ratio in info['sub_aspects'].items():\n",
    "        print(f\"\\t{sub_aspect}: {sub_ratio}\")\n",
    "    print()\n"
   ]
  },
  {
   "cell_type": "code",
   "execution_count": 7,
   "metadata": {},
   "outputs": [
    {
     "data": {
      "text/plain": [
       "{'ratio': 6.808087365416124,\n",
       " 'sub_aspects': {'Positive': 34.5464055781066,\n",
       "  'Negative': 0.8591208770894107,\n",
       "  'Neutral': 64.59447354480399}}"
      ]
     },
     "execution_count": 7,
     "metadata": {},
     "output_type": "execute_result"
    }
   ],
   "source": [
    "aspects_info['General']"
   ]
  },
  {
   "cell_type": "code",
   "execution_count": 9,
   "metadata": {},
   "outputs": [
    {
     "name": "stdout",
     "output_type": "stream",
     "text": [
      "Positive 25.2116867764469\n",
      "Negative 8.511194297876136\n",
      "Neutral 66.27711892567696\n"
     ]
    }
   ],
   "source": [
    "for label, ratio in aspects_info[aspect]['sub_aspects'].items():\n",
    "    print(label, ratio)"
   ]
  },
  {
   "cell_type": "code",
   "execution_count": 10,
   "metadata": {},
   "outputs": [
    {
     "ename": "ValueError",
     "evalue": "x must be 1D",
     "output_type": "error",
     "traceback": [
      "\u001b[1;31m---------------------------------------------------------------------------\u001b[0m",
      "\u001b[1;31mValueError\u001b[0m                                Traceback (most recent call last)",
      "Cell \u001b[1;32mIn[10], line 5\u001b[0m\n\u001b[0;32m      3\u001b[0m sentiments \u001b[38;5;241m=\u001b[39m [\u001b[38;5;124m'\u001b[39m\u001b[38;5;124mPositive\u001b[39m\u001b[38;5;124m'\u001b[39m, \u001b[38;5;124m'\u001b[39m\u001b[38;5;124mNegative\u001b[39m\u001b[38;5;124m'\u001b[39m, \u001b[38;5;124m'\u001b[39m\u001b[38;5;124mNeutral\u001b[39m\u001b[38;5;124m'\u001b[39m]\n\u001b[0;32m      4\u001b[0m pie_sentiments_of_an_aspect \u001b[38;5;241m=\u001b[39m plt\u001b[38;5;241m.\u001b[39mfigure(figsize\u001b[38;5;241m=\u001b[39m(\u001b[38;5;241m5\u001b[39m,\u001b[38;5;241m5\u001b[39m))\n\u001b[1;32m----> 5\u001b[0m \u001b[43mplt\u001b[49m\u001b[38;5;241;43m.\u001b[39;49m\u001b[43mpie\u001b[49m\u001b[43m(\u001b[49m\u001b[43msentiments_ratio\u001b[49m\u001b[43m,\u001b[49m\u001b[43m \u001b[49m\u001b[43mlabels\u001b[49m\u001b[38;5;241;43m=\u001b[39;49m\u001b[43msentiments\u001b[49m\u001b[43m,\u001b[49m\u001b[43m \u001b[49m\u001b[43mautopct\u001b[49m\u001b[38;5;241;43m=\u001b[39;49m\u001b[38;5;124;43m'\u001b[39;49m\u001b[38;5;132;43;01m%1.1f\u001b[39;49;00m\u001b[38;5;132;43;01m%%\u001b[39;49;00m\u001b[38;5;124;43m'\u001b[39;49m\u001b[43m,\u001b[49m\u001b[43m \u001b[49m\u001b[43mstartangle\u001b[49m\u001b[38;5;241;43m=\u001b[39;49m\u001b[38;5;241;43m140\u001b[39;49m\u001b[43m)\u001b[49m\n\u001b[0;32m      6\u001b[0m pie_sentiments_of_an_aspect\n",
      "File \u001b[1;32mf:\\miniconda3\\envs\\btl\\Lib\\site-packages\\matplotlib\\pyplot.py:3558\u001b[0m, in \u001b[0;36mpie\u001b[1;34m(x, explode, labels, colors, autopct, pctdistance, shadow, labeldistance, startangle, radius, counterclock, wedgeprops, textprops, center, frame, rotatelabels, normalize, hatch, data)\u001b[0m\n\u001b[0;32m   3535\u001b[0m \u001b[38;5;129m@_copy_docstring_and_deprecators\u001b[39m(Axes\u001b[38;5;241m.\u001b[39mpie)\n\u001b[0;32m   3536\u001b[0m \u001b[38;5;28;01mdef\u001b[39;00m \u001b[38;5;21mpie\u001b[39m(\n\u001b[0;32m   3537\u001b[0m     x: ArrayLike,\n\u001b[1;32m   (...)\u001b[0m\n\u001b[0;32m   3556\u001b[0m     data\u001b[38;5;241m=\u001b[39m\u001b[38;5;28;01mNone\u001b[39;00m,\n\u001b[0;32m   3557\u001b[0m ) \u001b[38;5;241m-\u001b[39m\u001b[38;5;241m>\u001b[39m \u001b[38;5;28mtuple\u001b[39m[\u001b[38;5;28mlist\u001b[39m[Wedge], \u001b[38;5;28mlist\u001b[39m[Text]] \u001b[38;5;241m|\u001b[39m \u001b[38;5;28mtuple\u001b[39m[\u001b[38;5;28mlist\u001b[39m[Wedge], \u001b[38;5;28mlist\u001b[39m[Text], \u001b[38;5;28mlist\u001b[39m[Text]]:\n\u001b[1;32m-> 3558\u001b[0m     \u001b[38;5;28;01mreturn\u001b[39;00m \u001b[43mgca\u001b[49m\u001b[43m(\u001b[49m\u001b[43m)\u001b[49m\u001b[38;5;241;43m.\u001b[39;49m\u001b[43mpie\u001b[49m\u001b[43m(\u001b[49m\n\u001b[0;32m   3559\u001b[0m \u001b[43m        \u001b[49m\u001b[43mx\u001b[49m\u001b[43m,\u001b[49m\n\u001b[0;32m   3560\u001b[0m \u001b[43m        \u001b[49m\u001b[43mexplode\u001b[49m\u001b[38;5;241;43m=\u001b[39;49m\u001b[43mexplode\u001b[49m\u001b[43m,\u001b[49m\n\u001b[0;32m   3561\u001b[0m \u001b[43m        \u001b[49m\u001b[43mlabels\u001b[49m\u001b[38;5;241;43m=\u001b[39;49m\u001b[43mlabels\u001b[49m\u001b[43m,\u001b[49m\n\u001b[0;32m   3562\u001b[0m \u001b[43m        \u001b[49m\u001b[43mcolors\u001b[49m\u001b[38;5;241;43m=\u001b[39;49m\u001b[43mcolors\u001b[49m\u001b[43m,\u001b[49m\n\u001b[0;32m   3563\u001b[0m \u001b[43m        \u001b[49m\u001b[43mautopct\u001b[49m\u001b[38;5;241;43m=\u001b[39;49m\u001b[43mautopct\u001b[49m\u001b[43m,\u001b[49m\n\u001b[0;32m   3564\u001b[0m \u001b[43m        \u001b[49m\u001b[43mpctdistance\u001b[49m\u001b[38;5;241;43m=\u001b[39;49m\u001b[43mpctdistance\u001b[49m\u001b[43m,\u001b[49m\n\u001b[0;32m   3565\u001b[0m \u001b[43m        \u001b[49m\u001b[43mshadow\u001b[49m\u001b[38;5;241;43m=\u001b[39;49m\u001b[43mshadow\u001b[49m\u001b[43m,\u001b[49m\n\u001b[0;32m   3566\u001b[0m \u001b[43m        \u001b[49m\u001b[43mlabeldistance\u001b[49m\u001b[38;5;241;43m=\u001b[39;49m\u001b[43mlabeldistance\u001b[49m\u001b[43m,\u001b[49m\n\u001b[0;32m   3567\u001b[0m \u001b[43m        \u001b[49m\u001b[43mstartangle\u001b[49m\u001b[38;5;241;43m=\u001b[39;49m\u001b[43mstartangle\u001b[49m\u001b[43m,\u001b[49m\n\u001b[0;32m   3568\u001b[0m \u001b[43m        \u001b[49m\u001b[43mradius\u001b[49m\u001b[38;5;241;43m=\u001b[39;49m\u001b[43mradius\u001b[49m\u001b[43m,\u001b[49m\n\u001b[0;32m   3569\u001b[0m \u001b[43m        \u001b[49m\u001b[43mcounterclock\u001b[49m\u001b[38;5;241;43m=\u001b[39;49m\u001b[43mcounterclock\u001b[49m\u001b[43m,\u001b[49m\n\u001b[0;32m   3570\u001b[0m \u001b[43m        \u001b[49m\u001b[43mwedgeprops\u001b[49m\u001b[38;5;241;43m=\u001b[39;49m\u001b[43mwedgeprops\u001b[49m\u001b[43m,\u001b[49m\n\u001b[0;32m   3571\u001b[0m \u001b[43m        \u001b[49m\u001b[43mtextprops\u001b[49m\u001b[38;5;241;43m=\u001b[39;49m\u001b[43mtextprops\u001b[49m\u001b[43m,\u001b[49m\n\u001b[0;32m   3572\u001b[0m \u001b[43m        \u001b[49m\u001b[43mcenter\u001b[49m\u001b[38;5;241;43m=\u001b[39;49m\u001b[43mcenter\u001b[49m\u001b[43m,\u001b[49m\n\u001b[0;32m   3573\u001b[0m \u001b[43m        \u001b[49m\u001b[43mframe\u001b[49m\u001b[38;5;241;43m=\u001b[39;49m\u001b[43mframe\u001b[49m\u001b[43m,\u001b[49m\n\u001b[0;32m   3574\u001b[0m \u001b[43m        \u001b[49m\u001b[43mrotatelabels\u001b[49m\u001b[38;5;241;43m=\u001b[39;49m\u001b[43mrotatelabels\u001b[49m\u001b[43m,\u001b[49m\n\u001b[0;32m   3575\u001b[0m \u001b[43m        \u001b[49m\u001b[43mnormalize\u001b[49m\u001b[38;5;241;43m=\u001b[39;49m\u001b[43mnormalize\u001b[49m\u001b[43m,\u001b[49m\n\u001b[0;32m   3576\u001b[0m \u001b[43m        \u001b[49m\u001b[43mhatch\u001b[49m\u001b[38;5;241;43m=\u001b[39;49m\u001b[43mhatch\u001b[49m\u001b[43m,\u001b[49m\n\u001b[0;32m   3577\u001b[0m \u001b[43m        \u001b[49m\u001b[38;5;241;43m*\u001b[39;49m\u001b[38;5;241;43m*\u001b[39;49m\u001b[43m(\u001b[49m\u001b[43m{\u001b[49m\u001b[38;5;124;43m\"\u001b[39;49m\u001b[38;5;124;43mdata\u001b[39;49m\u001b[38;5;124;43m\"\u001b[39;49m\u001b[43m:\u001b[49m\u001b[43m \u001b[49m\u001b[43mdata\u001b[49m\u001b[43m}\u001b[49m\u001b[43m \u001b[49m\u001b[38;5;28;43;01mif\u001b[39;49;00m\u001b[43m \u001b[49m\u001b[43mdata\u001b[49m\u001b[43m \u001b[49m\u001b[38;5;129;43;01mis\u001b[39;49;00m\u001b[43m \u001b[49m\u001b[38;5;129;43;01mnot\u001b[39;49;00m\u001b[43m \u001b[49m\u001b[38;5;28;43;01mNone\u001b[39;49;00m\u001b[43m \u001b[49m\u001b[38;5;28;43;01melse\u001b[39;49;00m\u001b[43m \u001b[49m\u001b[43m{\u001b[49m\u001b[43m}\u001b[49m\u001b[43m)\u001b[49m\u001b[43m,\u001b[49m\n\u001b[0;32m   3578\u001b[0m \u001b[43m    \u001b[49m\u001b[43m)\u001b[49m\n",
      "File \u001b[1;32mf:\\miniconda3\\envs\\btl\\Lib\\site-packages\\matplotlib\\__init__.py:1478\u001b[0m, in \u001b[0;36m_preprocess_data.<locals>.inner\u001b[1;34m(ax, data, *args, **kwargs)\u001b[0m\n\u001b[0;32m   1475\u001b[0m \u001b[38;5;129m@functools\u001b[39m\u001b[38;5;241m.\u001b[39mwraps(func)\n\u001b[0;32m   1476\u001b[0m \u001b[38;5;28;01mdef\u001b[39;00m \u001b[38;5;21minner\u001b[39m(ax, \u001b[38;5;241m*\u001b[39margs, data\u001b[38;5;241m=\u001b[39m\u001b[38;5;28;01mNone\u001b[39;00m, \u001b[38;5;241m*\u001b[39m\u001b[38;5;241m*\u001b[39mkwargs):\n\u001b[0;32m   1477\u001b[0m     \u001b[38;5;28;01mif\u001b[39;00m data \u001b[38;5;129;01mis\u001b[39;00m \u001b[38;5;28;01mNone\u001b[39;00m:\n\u001b[1;32m-> 1478\u001b[0m         \u001b[38;5;28;01mreturn\u001b[39;00m \u001b[43mfunc\u001b[49m\u001b[43m(\u001b[49m\u001b[43max\u001b[49m\u001b[43m,\u001b[49m\u001b[43m \u001b[49m\u001b[38;5;241;43m*\u001b[39;49m\u001b[38;5;28;43mmap\u001b[39;49m\u001b[43m(\u001b[49m\u001b[43msanitize_sequence\u001b[49m\u001b[43m,\u001b[49m\u001b[43m \u001b[49m\u001b[43margs\u001b[49m\u001b[43m)\u001b[49m\u001b[43m,\u001b[49m\u001b[43m \u001b[49m\u001b[38;5;241;43m*\u001b[39;49m\u001b[38;5;241;43m*\u001b[39;49m\u001b[43mkwargs\u001b[49m\u001b[43m)\u001b[49m\n\u001b[0;32m   1480\u001b[0m     bound \u001b[38;5;241m=\u001b[39m new_sig\u001b[38;5;241m.\u001b[39mbind(ax, \u001b[38;5;241m*\u001b[39margs, \u001b[38;5;241m*\u001b[39m\u001b[38;5;241m*\u001b[39mkwargs)\n\u001b[0;32m   1481\u001b[0m     auto_label \u001b[38;5;241m=\u001b[39m (bound\u001b[38;5;241m.\u001b[39marguments\u001b[38;5;241m.\u001b[39mget(label_namer)\n\u001b[0;32m   1482\u001b[0m                   \u001b[38;5;129;01mor\u001b[39;00m bound\u001b[38;5;241m.\u001b[39mkwargs\u001b[38;5;241m.\u001b[39mget(label_namer))\n",
      "File \u001b[1;32mf:\\miniconda3\\envs\\btl\\Lib\\site-packages\\matplotlib\\axes\\_axes.py:3224\u001b[0m, in \u001b[0;36mAxes.pie\u001b[1;34m(self, x, explode, labels, colors, autopct, pctdistance, shadow, labeldistance, startangle, radius, counterclock, wedgeprops, textprops, center, frame, rotatelabels, normalize, hatch)\u001b[0m\n\u001b[0;32m   3222\u001b[0m x \u001b[38;5;241m=\u001b[39m np\u001b[38;5;241m.\u001b[39masarray(x, np\u001b[38;5;241m.\u001b[39mfloat32)\n\u001b[0;32m   3223\u001b[0m \u001b[38;5;28;01mif\u001b[39;00m x\u001b[38;5;241m.\u001b[39mndim \u001b[38;5;241m>\u001b[39m \u001b[38;5;241m1\u001b[39m:\n\u001b[1;32m-> 3224\u001b[0m     \u001b[38;5;28;01mraise\u001b[39;00m \u001b[38;5;167;01mValueError\u001b[39;00m(\u001b[38;5;124m\"\u001b[39m\u001b[38;5;124mx must be 1D\u001b[39m\u001b[38;5;124m\"\u001b[39m)\n\u001b[0;32m   3226\u001b[0m \u001b[38;5;28;01mif\u001b[39;00m np\u001b[38;5;241m.\u001b[39many(x \u001b[38;5;241m<\u001b[39m \u001b[38;5;241m0\u001b[39m):\n\u001b[0;32m   3227\u001b[0m     \u001b[38;5;28;01mraise\u001b[39;00m \u001b[38;5;167;01mValueError\u001b[39;00m(\u001b[38;5;124m\"\u001b[39m\u001b[38;5;124mWedge sizes \u001b[39m\u001b[38;5;124m'\u001b[39m\u001b[38;5;124mx\u001b[39m\u001b[38;5;124m'\u001b[39m\u001b[38;5;124m must be non negative values\u001b[39m\u001b[38;5;124m\"\u001b[39m)\n",
      "\u001b[1;31mValueError\u001b[0m: x must be 1D"
     ]
    },
    {
     "data": {
      "image/png": "[encoded data removed]",
      "text/plain": [
       "<Figure size 500x500 with 1 Axes>"
      ]
     },
     "metadata": {},
     "output_type": "display_data"
    }
   ],
   "source": [
    "import matplotlib.pyplot as plt\n",
    "sentiments_ratio = (np.random.dirichlet(np.ones(3), size=1) * 100).flatten()\n",
    "sentiments = ['Positive', 'Negative', 'Neutral']\n",
    "pie_sentiments_of_an_aspect = plt.figure(figsize=(5,5))\n",
    "plt.pie(sentiments_ratio, labels=sentiments, autopct='%1.1f%%', startangle=140)\n",
    "pie_sentiments_of_an_aspect"
   ]
  },
  {
   "cell_type": "code",
   "execution_count": 11,
   "metadata": {},
   "outputs": [
    {
     "data": {
      "text/plain": [
       "array([[ 4.53384065, 57.32388288, 38.14227646]])"
      ]
     },
     "execution_count": 11,
     "metadata": {},
     "output_type": "execute_result"
    }
   ],
   "source": [
    "np.random.dirichlet(np.ones(3), size=1) * 100"
   ]
  },
  {
   "cell_type": "code",
   "execution_count": 13,
   "metadata": {},
   "outputs": [
    {
     "data": {
      "image/png": "[encoded data removed]",
      "text/plain": [
       "<Figure size 500x500 with 1 Axes>"
      ]
     },
     "metadata": {},
     "output_type": "display_data"
    }
   ],
   "source": [
    "sentiments_ratio = np.random.dirichlet(np.ones(3), size=1) * 100\n",
    "sentiments_ratio = sentiments_ratio.flatten()  # Flatten the array to make it 1D\n",
    "sentiments = ['Positive', 'Negative', 'Neutral']\n",
    "\n",
    "pie_sentiments_of_an_aspect = plt.figure(figsize=(5, 5))\n",
    "plt.pie(sentiments_ratio, labels=sentiments, autopct='%1.1f%%', startangle=140)\n",
    "plt.show()"
   ]
  },
  {
   "cell_type": "code",
   "execution_count": 16,
   "metadata": {},
   "outputs": [
    {
     "data": {
      "image/png": "[encoded data removed]",
      "text/plain": [
       "<Figure size 640x480 with 1 Axes>"
      ]
     },
     "metadata": {},
     "output_type": "display_data"
    }
   ],
   "source": [
    "import matplotlib.pyplot as plt\n",
    "\n",
    "# Sample data\n",
    "sizes = [15, 30, 45, 10]\n",
    "labels = ['A', 'B', 'C', 'D']\n",
    "\n",
    "# Define explode values\n",
    "explode = (0, 0.1, 0, 0)  # Explode the second slice (B)\n",
    "\n",
    "plt.pie(sizes, labels=labels, explode=explode, autopct='%1.1f%%', startangle=140)\n",
    "plt.show()\n"
   ]
  },
  {
   "cell_type": "code",
   "execution_count": 4,
   "metadata": {},
   "outputs": [
    {
     "data": {
      "text/plain": [
       "'Negative'"
      ]
     },
     "execution_count": 4,
     "metadata": {},
     "output_type": "execute_result"
    }
   ],
   "source": [
    "sentiments_ratio = (np.random.dirichlet(np.ones(3), size=1) * 100).flatten()\n",
    "sentiments = ['Positive', 'Negative', 'Neutral']\n",
    "\n",
    "sentiments[sentiments_ratio.argmax()]"
   ]
  },
  {
   "cell_type": "code",
   "execution_count": 1,
   "metadata": {},
   "outputs": [
    {
     "data": {
      "text/html": [
       "<div>\n",
       "<style scoped>\n",
       "    .dataframe tbody tr th:only-of-type {\n",
       "        vertical-align: middle;\n",
       "    }\n",
       "\n",
       "    .dataframe tbody tr th {\n",
       "        vertical-align: top;\n",
       "    }\n",
       "\n",
       "    .dataframe thead th {\n",
       "        text-align: right;\n",
       "    }\n",
       "</style>\n",
       "<table border=\"1\" class=\"dataframe\">\n",
       "  <thead>\n",
       "    <tr style=\"text-align: right;\">\n",
       "      <th></th>\n",
       "      <th>Comments</th>\n",
       "      <th>n_stars</th>\n",
       "      <th>Label</th>\n",
       "    </tr>\n",
       "  </thead>\n",
       "  <tbody>\n",
       "    <tr>\n",
       "      <th>0</th>\n",
       "      <td>Tạm ổn</td>\n",
       "      <td>3</td>\n",
       "      <td>NaN</td>\n",
       "    </tr>\n",
       "    <tr>\n",
       "      <th>1</th>\n",
       "      <td>Nhân viên tư vấn thân thiệt và nhiệt tình</td>\n",
       "      <td>5</td>\n",
       "      <td>NaN</td>\n",
       "    </tr>\n",
       "    <tr>\n",
       "      <th>2</th>\n",
       "      <td>sao pin con này bị sao vậy shop</td>\n",
       "      <td>5</td>\n",
       "      <td>NaN</td>\n",
       "    </tr>\n",
       "    <tr>\n",
       "      <th>3</th>\n",
       "      <td>Mình mua iphone 15 pro max 256 màu tự nhiên mớ...</td>\n",
       "      <td>4</td>\n",
       "      <td>NaN</td>\n",
       "    </tr>\n",
       "    <tr>\n",
       "      <th>4</th>\n",
       "      <td>Chẳng có gì để chê, Pin rất trâu và sạc rất nh...</td>\n",
       "      <td>5</td>\n",
       "      <td>NaN</td>\n",
       "    </tr>\n",
       "  </tbody>\n",
       "</table>\n",
       "</div>"
      ],
      "text/plain": [
       "                                            Comments  n_stars  Label\n",
       "0                                             Tạm ổn        3    NaN\n",
       "1          Nhân viên tư vấn thân thiệt và nhiệt tình        5    NaN\n",
       "2                    sao pin con này bị sao vậy shop        5    NaN\n",
       "3  Mình mua iphone 15 pro max 256 màu tự nhiên mớ...        4    NaN\n",
       "4  Chẳng có gì để chê, Pin rất trâu và sạc rất nh...        5    NaN"
      ]
     },
     "execution_count": 1,
     "metadata": {},
     "output_type": "execute_result"
    }
   ],
   "source": [
    "import pandas as pd\n",
    "data = pd.read_csv('comments.csv')\n",
    "data.head()"
   ]
  },
  {
   "cell_type": "code",
   "execution_count": 2,
   "metadata": {},
   "outputs": [
    {
     "data": {
      "text/plain": [
       "0                                                  Tạm ổn\n",
       "1               Nhân viên tư vấn thân thiệt và nhiệt tình\n",
       "2                         sao pin con này bị sao vậy shop\n",
       "3       Mình mua iphone 15 pro max 256 màu tự nhiên mớ...\n",
       "4       Chẳng có gì để chê, Pin rất trâu và sạc rất nh...\n",
       "                              ...                        \n",
       "1309                                                   Ok\n",
       "1310    Ok . nhưng mau hết PIN . bù lại hổ trợ xạc nha...\n",
       "1311                                 Dùng tốt so với giá.\n",
       "1312                       Máy hơi nóng, nói chung tạm ổn\n",
       "1313    Cấu hình ổn. Mỗi tội mau nóng máy vs tụt pin q...\n",
       "Name: Comments, Length: 1314, dtype: object"
      ]
     },
     "execution_count": 2,
     "metadata": {},
     "output_type": "execute_result"
    }
   ],
   "source": [
    "data['Comments']"
   ]
  },
  {
   "cell_type": "code",
   "execution_count": 3,
   "metadata": {},
   "outputs": [
    {
     "data": {
      "text/html": [
       "<div>\n",
       "<style scoped>\n",
       "    .dataframe tbody tr th:only-of-type {\n",
       "        vertical-align: middle;\n",
       "    }\n",
       "\n",
       "    .dataframe tbody tr th {\n",
       "        vertical-align: top;\n",
       "    }\n",
       "\n",
       "    .dataframe thead th {\n",
       "        text-align: right;\n",
       "    }\n",
       "</style>\n",
       "<table border=\"1\" class=\"dataframe\">\n",
       "  <thead>\n",
       "    <tr style=\"text-align: right;\">\n",
       "      <th></th>\n",
       "      <th>Comments</th>\n",
       "      <th>n_stars</th>\n",
       "      <th>Label</th>\n",
       "      <th>len_cmt</th>\n",
       "    </tr>\n",
       "  </thead>\n",
       "  <tbody>\n",
       "    <tr>\n",
       "      <th>0</th>\n",
       "      <td>Tạm ổn</td>\n",
       "      <td>3</td>\n",
       "      <td>NaN</td>\n",
       "      <td>6</td>\n",
       "    </tr>\n",
       "    <tr>\n",
       "      <th>1</th>\n",
       "      <td>Nhân viên tư vấn thân thiệt và nhiệt tình</td>\n",
       "      <td>5</td>\n",
       "      <td>NaN</td>\n",
       "      <td>41</td>\n",
       "    </tr>\n",
       "    <tr>\n",
       "      <th>2</th>\n",
       "      <td>sao pin con này bị sao vậy shop</td>\n",
       "      <td>5</td>\n",
       "      <td>NaN</td>\n",
       "      <td>31</td>\n",
       "    </tr>\n",
       "    <tr>\n",
       "      <th>3</th>\n",
       "      <td>Mình mua iphone 15 pro max 256 màu tự nhiên mớ...</td>\n",
       "      <td>4</td>\n",
       "      <td>NaN</td>\n",
       "      <td>188</td>\n",
       "    </tr>\n",
       "    <tr>\n",
       "      <th>4</th>\n",
       "      <td>Chẳng có gì để chê, Pin rất trâu và sạc rất nh...</td>\n",
       "      <td>5</td>\n",
       "      <td>NaN</td>\n",
       "      <td>50</td>\n",
       "    </tr>\n",
       "  </tbody>\n",
       "</table>\n",
       "</div>"
      ],
      "text/plain": [
       "                                            Comments  n_stars  Label  len_cmt\n",
       "0                                             Tạm ổn        3    NaN        6\n",
       "1          Nhân viên tư vấn thân thiệt và nhiệt tình        5    NaN       41\n",
       "2                    sao pin con này bị sao vậy shop        5    NaN       31\n",
       "3  Mình mua iphone 15 pro max 256 màu tự nhiên mớ...        4    NaN      188\n",
       "4  Chẳng có gì để chê, Pin rất trâu và sạc rất nh...        5    NaN       50"
      ]
     },
     "execution_count": 3,
     "metadata": {},
     "output_type": "execute_result"
    }
   ],
   "source": [
    "data['len_cmt'] = data['Comments'].apply(lambda x: len(x.strip()))\n",
    "data.head()"
   ]
  },
  {
   "cell_type": "code",
   "execution_count": 4,
   "metadata": {},
   "outputs": [
    {
     "data": {
      "image/png": "[encoded data removed]",
      "text/plain": [
       "<Figure size 640x480 with 1 Axes>"
      ]
     },
     "metadata": {},
     "output_type": "display_data"
    }
   ],
   "source": [
    "import matplotlib.pyplot as plt\n",
    "plt.hist(data['len_cmt'], bins=20, color='skyblue', edgecolor='black')\n",
    "plt.title('Distribution of Comment Lengths')\n",
    "plt.xlabel('Length of Comments')\n",
    "plt.ylabel('Frequency')\n",
    "plt.grid(True)\n",
    "plt.show()"
   ]
  },
  {
   "cell_type": "code",
   "execution_count": 5,
   "metadata": {},
   "outputs": [
    {
     "data": {
      "text/plain": [
       "(262, 4)"
      ]
     },
     "execution_count": 5,
     "metadata": {},
     "output_type": "execute_result"
    }
   ],
   "source": [
    "old_df = data[(data['len_cmt'] > 100) & (data['len_cmt'] < 200)]\n",
    "old_df.shape"
   ]
  },
  {
   "cell_type": "code",
   "execution_count": 6,
   "metadata": {},
   "outputs": [
    {
     "name": "stdout",
     "output_type": "stream",
     "text": [
      "(172, 4)\n"
     ]
    },
    {
     "data": {
      "text/plain": [
       "(70, 4)"
      ]
     },
     "execution_count": 6,
     "metadata": {},
     "output_type": "execute_result"
    }
   ],
   "source": [
    "left_df = data[(data['len_cmt'] >= 75 ) & (data['len_cmt'] <= 100)]\n",
    "print(left_df.shape)\n",
    "right_df = data[(data['len_cmt'] >= 200) & (data['len_cmt'] <= 300)]\n",
    "right_df.shape"
   ]
  },
  {
   "cell_type": "code",
   "execution_count": 7,
   "metadata": {},
   "outputs": [],
   "source": [
    "final_df = pd.concat([old_df, left_df, right_df])"
   ]
  },
  {
   "cell_type": "code",
   "execution_count": 8,
   "metadata": {},
   "outputs": [
    {
     "data": {
      "text/plain": [
       "(504, 4)"
      ]
     },
     "execution_count": 8,
     "metadata": {},
     "output_type": "execute_result"
    }
   ],
   "source": [
    "final_df.shape"
   ]
  },
  {
   "cell_type": "code",
   "execution_count": 12,
   "metadata": {},
   "outputs": [],
   "source": [
    "pd.DataFrame.to_csv(final_df[:50], 'first50rows.csv')"
   ]
  },
  {
   "cell_type": "code",
   "execution_count": 9,
   "metadata": {},
   "outputs": [
    {
     "data": {
      "text/plain": [
       "(454, 4)"
      ]
     },
     "execution_count": 9,
     "metadata": {},
     "output_type": "execute_result"
    }
   ],
   "source": [
    "final_df.drop(final_df.index[:50], inplace=True)\n",
    "final_df.shape"
   ]
  },
  {
   "cell_type": "code",
   "execution_count": 12,
   "metadata": {},
   "outputs": [
    {
     "name": "stdout",
     "output_type": "stream",
     "text": [
      "(115, 5)\n"
     ]
    }
   ],
   "source": [
    "na_df = pd.read_csv('Nam-Anh.csv')\n",
    "h_df = pd.read_csv('Hùng.csv')\n",
    "n_df = pd.read_csv('Ninh.csv')\n",
    "merged_df = pd.concat([final_df, na_df, h_df, n_df])\n",
    "unique_rows_final = merged_df.drop_duplicates(subset=['Comments'], keep=False)\n",
    "print(unique_rows_final.shape)"
   ]
  },
  {
   "cell_type": "code",
   "execution_count": 14,
   "metadata": {},
   "outputs": [],
   "source": [
    "pd.DataFrame.to_csv(unique_rows_final, 'Mạnh.csv', index=False)"
   ]
  },
  {
   "cell_type": "code",
   "execution_count": 25,
   "metadata": {},
   "outputs": [
    {
     "name": "stdout",
     "output_type": "stream",
     "text": [
      "Số lượng dòng trong mỗi phần:\n",
      "113 113 113 115\n"
     ]
    }
   ],
   "source": [
    "# Xáo trộn dữ liệu\n",
    "final_df_shuffled = final_df.sample(frac=1)\n",
    "\n",
    "# Tính số lượng dòng trong mỗi phần\n",
    "num_rows = len(final_df_shuffled)\n",
    "rows_per_part = num_rows // 4\n",
    "\n",
    "# Chia DataFrame thành 4 phần\n",
    "part1 = final_df_shuffled.iloc[:rows_per_part]\n",
    "part2 = final_df_shuffled.iloc[rows_per_part:2*rows_per_part]\n",
    "part3 = final_df_shuffled.iloc[2*rows_per_part:3*rows_per_part]\n",
    "part4 = final_df_shuffled.iloc[3*rows_per_part:]\n",
    "\n",
    "# Kiểm tra kết quả\n",
    "print(\"Số lượng dòng trong mỗi phần:\")\n",
    "print(len(part1), len(part2), len(part3), len(part4))"
   ]
  },
  {
   "cell_type": "code",
   "execution_count": 26,
   "metadata": {},
   "outputs": [
    {
     "data": {
      "image/png": "[encoded data removed]",
      "text/plain": [
       "<Figure size 1000x800 with 4 Axes>"
      ]
     },
     "metadata": {},
     "output_type": "display_data"
    }
   ],
   "source": [
    "import matplotlib.pyplot as plt\n",
    "\n",
    "# Tạo subplot 2x2 với kích thước hình 10x8 inches\n",
    "fig, axs = plt.subplots(2, 2, figsize=(10, 8))\n",
    "\n",
    "# Vẽ biểu đồ cho part1\n",
    "axs[0, 0].hist(part1['len_cmt'], bins=20, color='skyblue', edgecolor='black')\n",
    "axs[0, 0].set_title('Distribution of Comment Lengths (Part 1)')\n",
    "axs[0, 0].set_xlabel('Length of Comments')\n",
    "axs[0, 0].set_ylabel('Frequency')\n",
    "axs[0, 0].grid(True)\n",
    "\n",
    "# Vẽ biểu đồ cho part2\n",
    "axs[0, 1].hist(part2['len_cmt'], bins=20, color='skyblue', edgecolor='black')\n",
    "axs[0, 1].set_title('Distribution of Comment Lengths (Part 2)')\n",
    "axs[0, 1].set_xlabel('Length of Comments')\n",
    "axs[0, 1].set_ylabel('Frequency')\n",
    "axs[0, 1].grid(True)\n",
    "\n",
    "# Vẽ biểu đồ cho part3\n",
    "axs[1, 0].hist(part3['len_cmt'], bins=20, color='skyblue', edgecolor='black')\n",
    "axs[1, 0].set_title('Distribution of Comment Lengths (Part 3)')\n",
    "axs[1, 0].set_xlabel('Length of Comments')\n",
    "axs[1, 0].set_ylabel('Frequency')\n",
    "axs[1, 0].grid(True)\n",
    "\n",
    "# Vẽ biểu đồ cho part4\n",
    "axs[1, 1].hist(part4['len_cmt'], bins=20, color='skyblue', edgecolor='black')\n",
    "axs[1, 1].set_title('Distribution of Comment Lengths (Part 4)')\n",
    "axs[1, 1].set_xlabel('Length of Comments')\n",
    "axs[1, 1].set_ylabel('Frequency')\n",
    "axs[1, 1].grid(True)\n",
    "\n",
    "# Hiển thị biểu đồ\n",
    "plt.tight_layout()\n",
    "plt.show()\n"
   ]
  },
  {
   "cell_type": "code",
   "execution_count": null,
   "metadata": {},
   "outputs": [],
   "source": [
    "pd.DataFrame.to_csv(part1, 'Hùng.csv')\n",
    "pd.DataFrame.to_csv(part2, 'Ninh.csv')\n",
    "pd.DataFrame.to_csv(part3, 'Nam-Anh.csv')\n"
   ]
  },
  {
   "cell_type": "code",
   "execution_count": 41,
   "metadata": {},
   "outputs": [],
   "source": [
    "pd.DataFrame.to_csv(df, 'old_comments_filtered.csv')"
   ]
  },
  {
   "cell_type": "code",
   "execution_count": 35,
   "metadata": {},
   "outputs": [],
   "source": [
    "pd.DataFrame.to_csv(final_df, 'comments_filtered.csv')"
   ]
  },
  {
   "cell_type": "code",
   "execution_count": 48,
   "metadata": {},
   "outputs": [
    {
     "data": {
      "image/png": "[encoded data removed]",
      "text/plain": [
       "<Figure size 10000x500 with 1 Axes>"
      ]
     },
     "metadata": {},
     "output_type": "display_data"
    }
   ],
   "source": [
    "from nltk.tokenize import word_tokenize\n",
    "from collections import Counter\n",
    "\n",
    "# Tokenizing and counting words in comments\n",
    "all_words = ' '.join(data['Comments']).lower()  # Concatenate all comments and convert to lowercase\n",
    "tokens = word_tokenize(all_words)\n",
    "word_freq = Counter(tokens)\n",
    "\n",
    "# Selecting top N common words to plot\n",
    "top_n = 100\n",
    "common_words = dict(word_freq.most_common(top_n))\n",
    "\n",
    "# Plotting common words\n",
    "plt.figure(figsize=(100, 5))\n",
    "plt.bar(common_words.keys(), common_words.values(), color='skyblue')\n",
    "plt.title('Top {} Common Words in Comments'.format(top_n))\n",
    "plt.xlabel('Words')\n",
    "plt.ylabel('Frequency')\n",
    "plt.xticks(rotation=45)  # Rotate x-axis labels for better readability\n",
    "plt.show()"
   ]
  },
  {
   "cell_type": "code",
   "execution_count": 49,
   "metadata": {},
   "outputs": [
    {
     "data": {
      "text/html": [
       "<div>\n",
       "<style scoped>\n",
       "    .dataframe tbody tr th:only-of-type {\n",
       "        vertical-align: middle;\n",
       "    }\n",
       "\n",
       "    .dataframe tbody tr th {\n",
       "        vertical-align: top;\n",
       "    }\n",
       "\n",
       "    .dataframe thead th {\n",
       "        text-align: right;\n",
       "    }\n",
       "</style>\n",
       "<table border=\"1\" class=\"dataframe\">\n",
       "  <thead>\n",
       "    <tr style=\"text-align: right;\">\n",
       "      <th></th>\n",
       "      <th>Comments</th>\n",
       "      <th>n_stars</th>\n",
       "      <th>Label</th>\n",
       "    </tr>\n",
       "  </thead>\n",
       "  <tbody>\n",
       "    <tr>\n",
       "      <th>0</th>\n",
       "      <td>Mình mua iphone 15 pro max 256 màu tự nhiên mớ...</td>\n",
       "      <td>4</td>\n",
       "      <td>Positive</td>\n",
       "    </tr>\n",
       "    <tr>\n",
       "      <th>1</th>\n",
       "      <td>ad cho em hỏi em mới mua con 15 bên mình mà em...</td>\n",
       "      <td>4</td>\n",
       "      <td>Positive</td>\n",
       "    </tr>\n",
       "    <tr>\n",
       "      <th>2</th>\n",
       "      <td>Máy mới mua chưa được 1 tháng nhưng hay bị lỗi...</td>\n",
       "      <td>3</td>\n",
       "      <td>Neutral</td>\n",
       "    </tr>\n",
       "    <tr>\n",
       "      <th>3</th>\n",
       "      <td>Hôm qua mua ip 15prm titan xanh giá full phụ k...</td>\n",
       "      <td>3</td>\n",
       "      <td>Neutral</td>\n",
       "    </tr>\n",
       "    <tr>\n",
       "      <th>4</th>\n",
       "      <td>Good, đã mua một cái titan xanh, hôm qua dứt t...</td>\n",
       "      <td>5</td>\n",
       "      <td>Positive</td>\n",
       "    </tr>\n",
       "    <tr>\n",
       "      <th>...</th>\n",
       "      <td>...</td>\n",
       "      <td>...</td>\n",
       "      <td>...</td>\n",
       "    </tr>\n",
       "    <tr>\n",
       "      <th>264</th>\n",
       "      <td>Vừa khui lúc sáng ! Mọi thứ thật tuyệt vời ! M...</td>\n",
       "      <td>5</td>\n",
       "      <td>Positive</td>\n",
       "    </tr>\n",
       "    <tr>\n",
       "      <th>265</th>\n",
       "      <td>Máy bắt sóng wifi kém. Cảm biến vân tay và khu...</td>\n",
       "      <td>2</td>\n",
       "      <td>Negative</td>\n",
       "    </tr>\n",
       "    <tr>\n",
       "      <th>266</th>\n",
       "      <td>Mới mua chưa biết sao nhưng chưa tìm thấy mục ...</td>\n",
       "      <td>5</td>\n",
       "      <td>Positive</td>\n",
       "    </tr>\n",
       "    <tr>\n",
       "      <th>267</th>\n",
       "      <td>Sản phẩm thực sự rất tốt trong tầm giá, đã dùn...</td>\n",
       "      <td>5</td>\n",
       "      <td>Positive</td>\n",
       "    </tr>\n",
       "    <tr>\n",
       "      <th>268</th>\n",
       "      <td>Cấu hình ổn. Mỗi tội mau nóng máy vs tụt pin q...</td>\n",
       "      <td>3</td>\n",
       "      <td>Neutral</td>\n",
       "    </tr>\n",
       "  </tbody>\n",
       "</table>\n",
       "<p>269 rows × 3 columns</p>\n",
       "</div>"
      ],
      "text/plain": [
       "                                              Comments  n_stars     Label\n",
       "0    Mình mua iphone 15 pro max 256 màu tự nhiên mớ...        4  Positive\n",
       "1    ad cho em hỏi em mới mua con 15 bên mình mà em...        4  Positive\n",
       "2    Máy mới mua chưa được 1 tháng nhưng hay bị lỗi...        3   Neutral\n",
       "3    Hôm qua mua ip 15prm titan xanh giá full phụ k...        3   Neutral\n",
       "4    Good, đã mua một cái titan xanh, hôm qua dứt t...        5  Positive\n",
       "..                                                 ...      ...       ...\n",
       "264  Vừa khui lúc sáng ! Mọi thứ thật tuyệt vời ! M...        5  Positive\n",
       "265  Máy bắt sóng wifi kém. Cảm biến vân tay và khu...        2  Negative\n",
       "266  Mới mua chưa biết sao nhưng chưa tìm thấy mục ...        5  Positive\n",
       "267  Sản phẩm thực sự rất tốt trong tầm giá, đã dùn...        5  Positive\n",
       "268  Cấu hình ổn. Mỗi tội mau nóng máy vs tụt pin q...        3   Neutral\n",
       "\n",
       "[269 rows x 3 columns]"
      ]
     },
     "execution_count": 49,
     "metadata": {},
     "output_type": "execute_result"
    }
   ],
   "source": [
    "df = pd.read_csv('labeled_filtered_data.csv')\n",
    "df"
   ]
  },
  {
   "cell_type": "code",
   "execution_count": 1,
   "metadata": {},
   "outputs": [
    {
     "ename": "NameError",
     "evalue": "name 'data' is not defined",
     "output_type": "error",
     "traceback": [
      "\u001b[1;31m---------------------------------------------------------------------------\u001b[0m",
      "\u001b[1;31mNameError\u001b[0m                                 Traceback (most recent call last)",
      "Cell \u001b[1;32mIn[1], line 3\u001b[0m\n\u001b[0;32m      1\u001b[0m \u001b[38;5;28;01mimport\u001b[39;00m \u001b[38;5;21;01mre\u001b[39;00m\n\u001b[1;32m----> 3\u001b[0m commit_messages \u001b[38;5;241m=\u001b[39m \u001b[38;5;124m'\u001b[39m\u001b[38;5;124m \u001b[39m\u001b[38;5;124m'\u001b[39m\u001b[38;5;241m.\u001b[39mjoin(\u001b[43mdata\u001b[49m[\u001b[38;5;124m'\u001b[39m\u001b[38;5;124mComments\u001b[39m\u001b[38;5;124m'\u001b[39m])\n\u001b[0;32m      4\u001b[0m commit_messages \u001b[38;5;241m=\u001b[39m commit_messages\u001b[38;5;241m.\u001b[39mlower()\n\u001b[0;32m      5\u001b[0m words \u001b[38;5;241m=\u001b[39m re\u001b[38;5;241m.\u001b[39mfindall(\u001b[38;5;124mr\u001b[39m\u001b[38;5;124m'\u001b[39m\u001b[38;5;124m\\\u001b[39m\u001b[38;5;124mb\u001b[39m\u001b[38;5;124m\\\u001b[39m\u001b[38;5;124mw+\u001b[39m\u001b[38;5;124m\\\u001b[39m\u001b[38;5;124mb\u001b[39m\u001b[38;5;124m'\u001b[39m, commit_messages)\n",
      "\u001b[1;31mNameError\u001b[0m: name 'data' is not defined"
     ]
    }
   ],
   "source": [
    "import re\n",
    "\n",
    "commit_messages = ' '.join(data['Comments'])\n",
    "commit_messages = commit_messages.lower()\n",
    "words = re.findall(r'\\b\\w+\\b', commit_messages)\n",
    "word_counts = Counter(words)\n",
    "most_common_words = word_counts.most_common(10)\n",
    "\n",
    "most_common_words"
   ]
  },
  {
   "cell_type": "code",
   "execution_count": 15,
   "metadata": {},
   "outputs": [
    {
     "data": {
      "text/plain": [
       "1"
      ]
     },
     "execution_count": 15,
     "metadata": {},
     "output_type": "execute_result"
    }
   ],
   "source": [
    "label_mapping = {'positive': 1, 'negative': -1, 'neutral': 0}\n",
    "encoded_labels = np.array([label_mapping[label] for label in labels_split])"
   ]
  },
  {
   "cell_type": "code",
   "execution_count": 1,
   "metadata": {},
   "outputs": [
    {
     "data": {
      "text/html": [
       "<div>\n",
       "<style scoped>\n",
       "    .dataframe tbody tr th:only-of-type {\n",
       "        vertical-align: middle;\n",
       "    }\n",
       "\n",
       "    .dataframe tbody tr th {\n",
       "        vertical-align: top;\n",
       "    }\n",
       "\n",
       "    .dataframe thead th {\n",
       "        text-align: right;\n",
       "    }\n",
       "</style>\n",
       "<table border=\"1\" class=\"dataframe\">\n",
       "  <thead>\n",
       "    <tr style=\"text-align: right;\">\n",
       "      <th></th>\n",
       "      <th>Comments</th>\n",
       "      <th>n_stars</th>\n",
       "      <th>len_cmt</th>\n",
       "      <th>Pin</th>\n",
       "      <th>Performance</th>\n",
       "      <th>Camera</th>\n",
       "      <th>Màn hình</th>\n",
       "      <th>Ngoại hình</th>\n",
       "      <th>Service</th>\n",
       "      <th>Others</th>\n",
       "      <th>SBat</th>\n",
       "      <th>SPer</th>\n",
       "      <th>SScr</th>\n",
       "      <th>SCam</th>\n",
       "      <th>SDes</th>\n",
       "      <th>SSer</th>\n",
       "      <th>SOth</th>\n",
       "      <th>Label</th>\n",
       "    </tr>\n",
       "  </thead>\n",
       "  <tbody>\n",
       "    <tr>\n",
       "      <th>0</th>\n",
       "      <td>E mới mua iphone 11. Và trong máy chỉ có 1 dây...</td>\n",
       "      <td>5</td>\n",
       "      <td>203</td>\n",
       "      <td>0</td>\n",
       "      <td>0</td>\n",
       "      <td>0</td>\n",
       "      <td>0</td>\n",
       "      <td>0</td>\n",
       "      <td>1</td>\n",
       "      <td>1</td>\n",
       "      <td>NaN</td>\n",
       "      <td>NaN</td>\n",
       "      <td>NaN</td>\n",
       "      <td>NaN</td>\n",
       "      <td>NaN</td>\n",
       "      <td>-1.0</td>\n",
       "      <td>0.0</td>\n",
       "      <td>NaN</td>\n",
       "    </tr>\n",
       "    <tr>\n",
       "      <th>1</th>\n",
       "      <td>Mới mua cách đây gần một tháng. Mọi thứ đều rấ...</td>\n",
       "      <td>5</td>\n",
       "      <td>108</td>\n",
       "      <td>1</td>\n",
       "      <td>0</td>\n",
       "      <td>0</td>\n",
       "      <td>0</td>\n",
       "      <td>0</td>\n",
       "      <td>0</td>\n",
       "      <td>0</td>\n",
       "      <td>-1.0</td>\n",
       "      <td>NaN</td>\n",
       "      <td>NaN</td>\n",
       "      <td>NaN</td>\n",
       "      <td>NaN</td>\n",
       "      <td>NaN</td>\n",
       "      <td>NaN</td>\n",
       "      <td>NaN</td>\n",
       "    </tr>\n",
       "    <tr>\n",
       "      <th>2</th>\n",
       "      <td>Máy em mua ngày 12/10 đến nay ngày 3/11 chưa đ...</td>\n",
       "      <td>4</td>\n",
       "      <td>109</td>\n",
       "      <td>1</td>\n",
       "      <td>0</td>\n",
       "      <td>0</td>\n",
       "      <td>0</td>\n",
       "      <td>0</td>\n",
       "      <td>0</td>\n",
       "      <td>0</td>\n",
       "      <td>-1.0</td>\n",
       "      <td>NaN</td>\n",
       "      <td>NaN</td>\n",
       "      <td>NaN</td>\n",
       "      <td>NaN</td>\n",
       "      <td>NaN</td>\n",
       "      <td>NaN</td>\n",
       "      <td>NaN</td>\n",
       "    </tr>\n",
       "    <tr>\n",
       "      <th>3</th>\n",
       "      <td>Mình mới xài được 7 tháng xuống 7% pin. Chả hi...</td>\n",
       "      <td>1</td>\n",
       "      <td>110</td>\n",
       "      <td>1</td>\n",
       "      <td>0</td>\n",
       "      <td>0</td>\n",
       "      <td>0</td>\n",
       "      <td>0</td>\n",
       "      <td>0</td>\n",
       "      <td>0</td>\n",
       "      <td>-1.0</td>\n",
       "      <td>NaN</td>\n",
       "      <td>NaN</td>\n",
       "      <td>NaN</td>\n",
       "      <td>NaN</td>\n",
       "      <td>NaN</td>\n",
       "      <td>NaN</td>\n",
       "      <td>NaN</td>\n",
       "    </tr>\n",
       "    <tr>\n",
       "      <th>4</th>\n",
       "      <td>Đã mua, rất mượt, pin rất trâu, học online liê...</td>\n",
       "      <td>5</td>\n",
       "      <td>237</td>\n",
       "      <td>1</td>\n",
       "      <td>1</td>\n",
       "      <td>0</td>\n",
       "      <td>0</td>\n",
       "      <td>0</td>\n",
       "      <td>0</td>\n",
       "      <td>1</td>\n",
       "      <td>1.0</td>\n",
       "      <td>1.0</td>\n",
       "      <td>NaN</td>\n",
       "      <td>NaN</td>\n",
       "      <td>NaN</td>\n",
       "      <td>NaN</td>\n",
       "      <td>-1.0</td>\n",
       "      <td>NaN</td>\n",
       "    </tr>\n",
       "    <tr>\n",
       "      <th>...</th>\n",
       "      <td>...</td>\n",
       "      <td>...</td>\n",
       "      <td>...</td>\n",
       "      <td>...</td>\n",
       "      <td>...</td>\n",
       "      <td>...</td>\n",
       "      <td>...</td>\n",
       "      <td>...</td>\n",
       "      <td>...</td>\n",
       "      <td>...</td>\n",
       "      <td>...</td>\n",
       "      <td>...</td>\n",
       "      <td>...</td>\n",
       "      <td>...</td>\n",
       "      <td>...</td>\n",
       "      <td>...</td>\n",
       "      <td>...</td>\n",
       "      <td>...</td>\n",
       "    </tr>\n",
       "    <tr>\n",
       "      <th>499</th>\n",
       "      <td>Cái đầu tiên là màu gấc xink nha, đúng màu mìn...</td>\n",
       "      <td>5</td>\n",
       "      <td>130</td>\n",
       "      <td>0</td>\n",
       "      <td>0</td>\n",
       "      <td>0</td>\n",
       "      <td>0</td>\n",
       "      <td>1</td>\n",
       "      <td>0</td>\n",
       "      <td>1</td>\n",
       "      <td>NaN</td>\n",
       "      <td>NaN</td>\n",
       "      <td>NaN</td>\n",
       "      <td>NaN</td>\n",
       "      <td>NaN</td>\n",
       "      <td>NaN</td>\n",
       "      <td>NaN</td>\n",
       "      <td>NaN</td>\n",
       "    </tr>\n",
       "    <tr>\n",
       "      <th>500</th>\n",
       "      <td>Mình xài được gần 4 tháng nhưng tình trạng pin...</td>\n",
       "      <td>3</td>\n",
       "      <td>154</td>\n",
       "      <td>1</td>\n",
       "      <td>0</td>\n",
       "      <td>0</td>\n",
       "      <td>0</td>\n",
       "      <td>0</td>\n",
       "      <td>0</td>\n",
       "      <td>0</td>\n",
       "      <td>NaN</td>\n",
       "      <td>NaN</td>\n",
       "      <td>NaN</td>\n",
       "      <td>NaN</td>\n",
       "      <td>NaN</td>\n",
       "      <td>NaN</td>\n",
       "      <td>NaN</td>\n",
       "      <td>NaN</td>\n",
       "    </tr>\n",
       "    <tr>\n",
       "      <th>501</th>\n",
       "      <td>Mình mua xài được 2 thang minh xài rất kỹ dung...</td>\n",
       "      <td>2</td>\n",
       "      <td>159</td>\n",
       "      <td>0</td>\n",
       "      <td>0</td>\n",
       "      <td>0</td>\n",
       "      <td>0</td>\n",
       "      <td>1</td>\n",
       "      <td>0</td>\n",
       "      <td>0</td>\n",
       "      <td>NaN</td>\n",
       "      <td>NaN</td>\n",
       "      <td>NaN</td>\n",
       "      <td>NaN</td>\n",
       "      <td>NaN</td>\n",
       "      <td>NaN</td>\n",
       "      <td>NaN</td>\n",
       "      <td>NaN</td>\n",
       "    </tr>\n",
       "    <tr>\n",
       "      <th>502</th>\n",
       "      <td>Rõ lần đầu chuyển sang iPhone mà gặp trường hợ...</td>\n",
       "      <td>2</td>\n",
       "      <td>129</td>\n",
       "      <td>0</td>\n",
       "      <td>0</td>\n",
       "      <td>0</td>\n",
       "      <td>0</td>\n",
       "      <td>1</td>\n",
       "      <td>0</td>\n",
       "      <td>0</td>\n",
       "      <td>NaN</td>\n",
       "      <td>NaN</td>\n",
       "      <td>NaN</td>\n",
       "      <td>NaN</td>\n",
       "      <td>NaN</td>\n",
       "      <td>NaN</td>\n",
       "      <td>NaN</td>\n",
       "      <td>NaN</td>\n",
       "    </tr>\n",
       "    <tr>\n",
       "      <th>503</th>\n",
       "      <td>Máy dùng ổn, mượt mà, pin khá lâu, cũng được t...</td>\n",
       "      <td>5</td>\n",
       "      <td>198</td>\n",
       "      <td>1</td>\n",
       "      <td>1</td>\n",
       "      <td>0</td>\n",
       "      <td>0</td>\n",
       "      <td>0</td>\n",
       "      <td>1</td>\n",
       "      <td>0</td>\n",
       "      <td>NaN</td>\n",
       "      <td>NaN</td>\n",
       "      <td>NaN</td>\n",
       "      <td>NaN</td>\n",
       "      <td>NaN</td>\n",
       "      <td>NaN</td>\n",
       "      <td>NaN</td>\n",
       "      <td>NaN</td>\n",
       "    </tr>\n",
       "  </tbody>\n",
       "</table>\n",
       "<p>504 rows × 18 columns</p>\n",
       "</div>"
      ],
      "text/plain": [
       "                                              Comments  n_stars  len_cmt  Pin  \\\n",
       "0    E mới mua iphone 11. Và trong máy chỉ có 1 dây...        5      203    0   \n",
       "1    Mới mua cách đây gần một tháng. Mọi thứ đều rấ...        5      108    1   \n",
       "2    Máy em mua ngày 12/10 đến nay ngày 3/11 chưa đ...        4      109    1   \n",
       "3    Mình mới xài được 7 tháng xuống 7% pin. Chả hi...        1      110    1   \n",
       "4    Đã mua, rất mượt, pin rất trâu, học online liê...        5      237    1   \n",
       "..                                                 ...      ...      ...  ...   \n",
       "499  Cái đầu tiên là màu gấc xink nha, đúng màu mìn...        5      130    0   \n",
       "500  Mình xài được gần 4 tháng nhưng tình trạng pin...        3      154    1   \n",
       "501  Mình mua xài được 2 thang minh xài rất kỹ dung...        2      159    0   \n",
       "502  Rõ lần đầu chuyển sang iPhone mà gặp trường hợ...        2      129    0   \n",
       "503  Máy dùng ổn, mượt mà, pin khá lâu, cũng được t...        5      198    1   \n",
       "\n",
       "     Performance  Camera  Màn hình  Ngoại hình  Service  Others  SBat  SPer  \\\n",
       "0              0       0         0           0        1       1   NaN   NaN   \n",
       "1              0       0         0           0        0       0  -1.0   NaN   \n",
       "2              0       0         0           0        0       0  -1.0   NaN   \n",
       "3              0       0         0           0        0       0  -1.0   NaN   \n",
       "4              1       0         0           0        0       1   1.0   1.0   \n",
       "..           ...     ...       ...         ...      ...     ...   ...   ...   \n",
       "499            0       0         0           1        0       1   NaN   NaN   \n",
       "500            0       0         0           0        0       0   NaN   NaN   \n",
       "501            0       0         0           1        0       0   NaN   NaN   \n",
       "502            0       0         0           1        0       0   NaN   NaN   \n",
       "503            1       0         0           0        1       0   NaN   NaN   \n",
       "\n",
       "     SScr  SCam  SDes  SSer  SOth  Label  \n",
       "0     NaN   NaN   NaN  -1.0   0.0    NaN  \n",
       "1     NaN   NaN   NaN   NaN   NaN    NaN  \n",
       "2     NaN   NaN   NaN   NaN   NaN    NaN  \n",
       "3     NaN   NaN   NaN   NaN   NaN    NaN  \n",
       "4     NaN   NaN   NaN   NaN  -1.0    NaN  \n",
       "..    ...   ...   ...   ...   ...    ...  \n",
       "499   NaN   NaN   NaN   NaN   NaN    NaN  \n",
       "500   NaN   NaN   NaN   NaN   NaN    NaN  \n",
       "501   NaN   NaN   NaN   NaN   NaN    NaN  \n",
       "502   NaN   NaN   NaN   NaN   NaN    NaN  \n",
       "503   NaN   NaN   NaN   NaN   NaN    NaN  \n",
       "\n",
       "[504 rows x 18 columns]"
      ]
     },
     "execution_count": 1,
     "metadata": {},
     "output_type": "execute_result"
    }
   ],
   "source": [
    "import pandas as pd\n",
    "df = pd.read_csv('data.csv')\n",
    "df"
   ]
  },
  {
   "cell_type": "code",
   "execution_count": 2,
   "metadata": {},
   "outputs": [],
   "source": [
    "df.drop(columns=['SBat', 'SPer', 'SScr', 'SCam', 'SDes', 'SSer', 'SOth', 'Label'], inplace=True)"
   ]
  },
  {
   "cell_type": "code",
   "execution_count": 3,
   "metadata": {},
   "outputs": [
    {
     "data": {
      "text/html": [
       "<div>\n",
       "<style scoped>\n",
       "    .dataframe tbody tr th:only-of-type {\n",
       "        vertical-align: middle;\n",
       "    }\n",
       "\n",
       "    .dataframe tbody tr th {\n",
       "        vertical-align: top;\n",
       "    }\n",
       "\n",
       "    .dataframe thead th {\n",
       "        text-align: right;\n",
       "    }\n",
       "</style>\n",
       "<table border=\"1\" class=\"dataframe\">\n",
       "  <thead>\n",
       "    <tr style=\"text-align: right;\">\n",
       "      <th></th>\n",
       "      <th>Comments</th>\n",
       "      <th>n_stars</th>\n",
       "      <th>len_cmt</th>\n",
       "      <th>Pin</th>\n",
       "      <th>Performance</th>\n",
       "      <th>Camera</th>\n",
       "      <th>Màn hình</th>\n",
       "      <th>Ngoại hình</th>\n",
       "      <th>Service</th>\n",
       "      <th>Others</th>\n",
       "    </tr>\n",
       "  </thead>\n",
       "  <tbody>\n",
       "    <tr>\n",
       "      <th>0</th>\n",
       "      <td>E mới mua iphone 11. Và trong máy chỉ có 1 dây...</td>\n",
       "      <td>5</td>\n",
       "      <td>203</td>\n",
       "      <td>0</td>\n",
       "      <td>0</td>\n",
       "      <td>0</td>\n",
       "      <td>0</td>\n",
       "      <td>0</td>\n",
       "      <td>1</td>\n",
       "      <td>1</td>\n",
       "    </tr>\n",
       "    <tr>\n",
       "      <th>1</th>\n",
       "      <td>Mới mua cách đây gần một tháng. Mọi thứ đều rấ...</td>\n",
       "      <td>5</td>\n",
       "      <td>108</td>\n",
       "      <td>1</td>\n",
       "      <td>0</td>\n",
       "      <td>0</td>\n",
       "      <td>0</td>\n",
       "      <td>0</td>\n",
       "      <td>0</td>\n",
       "      <td>0</td>\n",
       "    </tr>\n",
       "    <tr>\n",
       "      <th>2</th>\n",
       "      <td>Máy em mua ngày 12/10 đến nay ngày 3/11 chưa đ...</td>\n",
       "      <td>4</td>\n",
       "      <td>109</td>\n",
       "      <td>1</td>\n",
       "      <td>0</td>\n",
       "      <td>0</td>\n",
       "      <td>0</td>\n",
       "      <td>0</td>\n",
       "      <td>0</td>\n",
       "      <td>0</td>\n",
       "    </tr>\n",
       "    <tr>\n",
       "      <th>3</th>\n",
       "      <td>Mình mới xài được 7 tháng xuống 7% pin. Chả hi...</td>\n",
       "      <td>1</td>\n",
       "      <td>110</td>\n",
       "      <td>1</td>\n",
       "      <td>0</td>\n",
       "      <td>0</td>\n",
       "      <td>0</td>\n",
       "      <td>0</td>\n",
       "      <td>0</td>\n",
       "      <td>0</td>\n",
       "    </tr>\n",
       "    <tr>\n",
       "      <th>4</th>\n",
       "      <td>Đã mua, rất mượt, pin rất trâu, học online liê...</td>\n",
       "      <td>5</td>\n",
       "      <td>237</td>\n",
       "      <td>1</td>\n",
       "      <td>1</td>\n",
       "      <td>0</td>\n",
       "      <td>0</td>\n",
       "      <td>0</td>\n",
       "      <td>0</td>\n",
       "      <td>1</td>\n",
       "    </tr>\n",
       "    <tr>\n",
       "      <th>...</th>\n",
       "      <td>...</td>\n",
       "      <td>...</td>\n",
       "      <td>...</td>\n",
       "      <td>...</td>\n",
       "      <td>...</td>\n",
       "      <td>...</td>\n",
       "      <td>...</td>\n",
       "      <td>...</td>\n",
       "      <td>...</td>\n",
       "      <td>...</td>\n",
       "    </tr>\n",
       "    <tr>\n",
       "      <th>499</th>\n",
       "      <td>Cái đầu tiên là màu gấc xink nha, đúng màu mìn...</td>\n",
       "      <td>5</td>\n",
       "      <td>130</td>\n",
       "      <td>0</td>\n",
       "      <td>0</td>\n",
       "      <td>0</td>\n",
       "      <td>0</td>\n",
       "      <td>1</td>\n",
       "      <td>0</td>\n",
       "      <td>1</td>\n",
       "    </tr>\n",
       "    <tr>\n",
       "      <th>500</th>\n",
       "      <td>Mình xài được gần 4 tháng nhưng tình trạng pin...</td>\n",
       "      <td>3</td>\n",
       "      <td>154</td>\n",
       "      <td>1</td>\n",
       "      <td>0</td>\n",
       "      <td>0</td>\n",
       "      <td>0</td>\n",
       "      <td>0</td>\n",
       "      <td>0</td>\n",
       "      <td>0</td>\n",
       "    </tr>\n",
       "    <tr>\n",
       "      <th>501</th>\n",
       "      <td>Mình mua xài được 2 thang minh xài rất kỹ dung...</td>\n",
       "      <td>2</td>\n",
       "      <td>159</td>\n",
       "      <td>0</td>\n",
       "      <td>0</td>\n",
       "      <td>0</td>\n",
       "      <td>0</td>\n",
       "      <td>1</td>\n",
       "      <td>0</td>\n",
       "      <td>0</td>\n",
       "    </tr>\n",
       "    <tr>\n",
       "      <th>502</th>\n",
       "      <td>Rõ lần đầu chuyển sang iPhone mà gặp trường hợ...</td>\n",
       "      <td>2</td>\n",
       "      <td>129</td>\n",
       "      <td>0</td>\n",
       "      <td>0</td>\n",
       "      <td>0</td>\n",
       "      <td>0</td>\n",
       "      <td>1</td>\n",
       "      <td>0</td>\n",
       "      <td>0</td>\n",
       "    </tr>\n",
       "    <tr>\n",
       "      <th>503</th>\n",
       "      <td>Máy dùng ổn, mượt mà, pin khá lâu, cũng được t...</td>\n",
       "      <td>5</td>\n",
       "      <td>198</td>\n",
       "      <td>1</td>\n",
       "      <td>1</td>\n",
       "      <td>0</td>\n",
       "      <td>0</td>\n",
       "      <td>0</td>\n",
       "      <td>1</td>\n",
       "      <td>0</td>\n",
       "    </tr>\n",
       "  </tbody>\n",
       "</table>\n",
       "<p>504 rows × 10 columns</p>\n",
       "</div>"
      ],
      "text/plain": [
       "                                              Comments  n_stars  len_cmt  Pin  \\\n",
       "0    E mới mua iphone 11. Và trong máy chỉ có 1 dây...        5      203    0   \n",
       "1    Mới mua cách đây gần một tháng. Mọi thứ đều rấ...        5      108    1   \n",
       "2    Máy em mua ngày 12/10 đến nay ngày 3/11 chưa đ...        4      109    1   \n",
       "3    Mình mới xài được 7 tháng xuống 7% pin. Chả hi...        1      110    1   \n",
       "4    Đã mua, rất mượt, pin rất trâu, học online liê...        5      237    1   \n",
       "..                                                 ...      ...      ...  ...   \n",
       "499  Cái đầu tiên là màu gấc xink nha, đúng màu mìn...        5      130    0   \n",
       "500  Mình xài được gần 4 tháng nhưng tình trạng pin...        3      154    1   \n",
       "501  Mình mua xài được 2 thang minh xài rất kỹ dung...        2      159    0   \n",
       "502  Rõ lần đầu chuyển sang iPhone mà gặp trường hợ...        2      129    0   \n",
       "503  Máy dùng ổn, mượt mà, pin khá lâu, cũng được t...        5      198    1   \n",
       "\n",
       "     Performance  Camera  Màn hình  Ngoại hình  Service  Others  \n",
       "0              0       0         0           0        1       1  \n",
       "1              0       0         0           0        0       0  \n",
       "2              0       0         0           0        0       0  \n",
       "3              0       0         0           0        0       0  \n",
       "4              1       0         0           0        0       1  \n",
       "..           ...     ...       ...         ...      ...     ...  \n",
       "499            0       0         0           1        0       1  \n",
       "500            0       0         0           0        0       0  \n",
       "501            0       0         0           1        0       0  \n",
       "502            0       0         0           1        0       0  \n",
       "503            1       0         0           0        1       0  \n",
       "\n",
       "[504 rows x 10 columns]"
      ]
     },
     "execution_count": 3,
     "metadata": {},
     "output_type": "execute_result"
    }
   ],
   "source": [
    "df"
   ]
  },
  {
   "cell_type": "code",
   "execution_count": 4,
   "metadata": {},
   "outputs": [
    {
     "data": {
      "text/plain": [
       "Others\n",
       "0    330\n",
       "1    174\n",
       "Name: count, dtype: int64"
      ]
     },
     "execution_count": 4,
     "metadata": {},
     "output_type": "execute_result"
    }
   ],
   "source": [
    "df['Others'].value_counts()"
   ]
  },
  {
   "cell_type": "code",
   "execution_count": 5,
   "metadata": {},
   "outputs": [
    {
     "data": {
      "text/plain": [
       "Others\n",
       "1    366\n",
       "0    138\n",
       "Name: count, dtype: int64"
      ]
     },
     "execution_count": 5,
     "metadata": {},
     "output_type": "execute_result"
    }
   ],
   "source": [
    "df['Others'] = df[['Performance', 'Camera', 'Màn hình', 'Ngoại hình', 'Others']].any(axis=1).astype(int)\n",
    "df['Others'].value_counts()"
   ]
  },
  {
   "cell_type": "code",
   "execution_count": 6,
   "metadata": {},
   "outputs": [],
   "source": [
    "df.drop(columns=['Performance', 'Camera', 'Màn hình', 'Ngoại hình'], inplace=True)"
   ]
  },
  {
   "cell_type": "code",
   "execution_count": 7,
   "metadata": {},
   "outputs": [
    {
     "data": {
      "text/html": [
       "<div>\n",
       "<style scoped>\n",
       "    .dataframe tbody tr th:only-of-type {\n",
       "        vertical-align: middle;\n",
       "    }\n",
       "\n",
       "    .dataframe tbody tr th {\n",
       "        vertical-align: top;\n",
       "    }\n",
       "\n",
       "    .dataframe thead th {\n",
       "        text-align: right;\n",
       "    }\n",
       "</style>\n",
       "<table border=\"1\" class=\"dataframe\">\n",
       "  <thead>\n",
       "    <tr style=\"text-align: right;\">\n",
       "      <th></th>\n",
       "      <th>Comments</th>\n",
       "      <th>n_stars</th>\n",
       "      <th>len_cmt</th>\n",
       "      <th>Pin</th>\n",
       "      <th>Service</th>\n",
       "      <th>Others</th>\n",
       "    </tr>\n",
       "  </thead>\n",
       "  <tbody>\n",
       "    <tr>\n",
       "      <th>0</th>\n",
       "      <td>E mới mua iphone 11. Và trong máy chỉ có 1 dây...</td>\n",
       "      <td>5</td>\n",
       "      <td>203</td>\n",
       "      <td>0</td>\n",
       "      <td>1</td>\n",
       "      <td>1</td>\n",
       "    </tr>\n",
       "    <tr>\n",
       "      <th>1</th>\n",
       "      <td>Mới mua cách đây gần một tháng. Mọi thứ đều rấ...</td>\n",
       "      <td>5</td>\n",
       "      <td>108</td>\n",
       "      <td>1</td>\n",
       "      <td>0</td>\n",
       "      <td>0</td>\n",
       "    </tr>\n",
       "    <tr>\n",
       "      <th>2</th>\n",
       "      <td>Máy em mua ngày 12/10 đến nay ngày 3/11 chưa đ...</td>\n",
       "      <td>4</td>\n",
       "      <td>109</td>\n",
       "      <td>1</td>\n",
       "      <td>0</td>\n",
       "      <td>0</td>\n",
       "    </tr>\n",
       "    <tr>\n",
       "      <th>3</th>\n",
       "      <td>Mình mới xài được 7 tháng xuống 7% pin. Chả hi...</td>\n",
       "      <td>1</td>\n",
       "      <td>110</td>\n",
       "      <td>1</td>\n",
       "      <td>0</td>\n",
       "      <td>0</td>\n",
       "    </tr>\n",
       "    <tr>\n",
       "      <th>4</th>\n",
       "      <td>Đã mua, rất mượt, pin rất trâu, học online liê...</td>\n",
       "      <td>5</td>\n",
       "      <td>237</td>\n",
       "      <td>1</td>\n",
       "      <td>0</td>\n",
       "      <td>1</td>\n",
       "    </tr>\n",
       "    <tr>\n",
       "      <th>...</th>\n",
       "      <td>...</td>\n",
       "      <td>...</td>\n",
       "      <td>...</td>\n",
       "      <td>...</td>\n",
       "      <td>...</td>\n",
       "      <td>...</td>\n",
       "    </tr>\n",
       "    <tr>\n",
       "      <th>499</th>\n",
       "      <td>Cái đầu tiên là màu gấc xink nha, đúng màu mìn...</td>\n",
       "      <td>5</td>\n",
       "      <td>130</td>\n",
       "      <td>0</td>\n",
       "      <td>0</td>\n",
       "      <td>1</td>\n",
       "    </tr>\n",
       "    <tr>\n",
       "      <th>500</th>\n",
       "      <td>Mình xài được gần 4 tháng nhưng tình trạng pin...</td>\n",
       "      <td>3</td>\n",
       "      <td>154</td>\n",
       "      <td>1</td>\n",
       "      <td>0</td>\n",
       "      <td>0</td>\n",
       "    </tr>\n",
       "    <tr>\n",
       "      <th>501</th>\n",
       "      <td>Mình mua xài được 2 thang minh xài rất kỹ dung...</td>\n",
       "      <td>2</td>\n",
       "      <td>159</td>\n",
       "      <td>0</td>\n",
       "      <td>0</td>\n",
       "      <td>1</td>\n",
       "    </tr>\n",
       "    <tr>\n",
       "      <th>502</th>\n",
       "      <td>Rõ lần đầu chuyển sang iPhone mà gặp trường hợ...</td>\n",
       "      <td>2</td>\n",
       "      <td>129</td>\n",
       "      <td>0</td>\n",
       "      <td>0</td>\n",
       "      <td>1</td>\n",
       "    </tr>\n",
       "    <tr>\n",
       "      <th>503</th>\n",
       "      <td>Máy dùng ổn, mượt mà, pin khá lâu, cũng được t...</td>\n",
       "      <td>5</td>\n",
       "      <td>198</td>\n",
       "      <td>1</td>\n",
       "      <td>1</td>\n",
       "      <td>1</td>\n",
       "    </tr>\n",
       "  </tbody>\n",
       "</table>\n",
       "<p>504 rows × 6 columns</p>\n",
       "</div>"
      ],
      "text/plain": [
       "                                              Comments  n_stars  len_cmt  Pin  \\\n",
       "0    E mới mua iphone 11. Và trong máy chỉ có 1 dây...        5      203    0   \n",
       "1    Mới mua cách đây gần một tháng. Mọi thứ đều rấ...        5      108    1   \n",
       "2    Máy em mua ngày 12/10 đến nay ngày 3/11 chưa đ...        4      109    1   \n",
       "3    Mình mới xài được 7 tháng xuống 7% pin. Chả hi...        1      110    1   \n",
       "4    Đã mua, rất mượt, pin rất trâu, học online liê...        5      237    1   \n",
       "..                                                 ...      ...      ...  ...   \n",
       "499  Cái đầu tiên là màu gấc xink nha, đúng màu mìn...        5      130    0   \n",
       "500  Mình xài được gần 4 tháng nhưng tình trạng pin...        3      154    1   \n",
       "501  Mình mua xài được 2 thang minh xài rất kỹ dung...        2      159    0   \n",
       "502  Rõ lần đầu chuyển sang iPhone mà gặp trường hợ...        2      129    0   \n",
       "503  Máy dùng ổn, mượt mà, pin khá lâu, cũng được t...        5      198    1   \n",
       "\n",
       "     Service  Others  \n",
       "0          1       1  \n",
       "1          0       0  \n",
       "2          0       0  \n",
       "3          0       0  \n",
       "4          0       1  \n",
       "..       ...     ...  \n",
       "499        0       1  \n",
       "500        0       0  \n",
       "501        0       1  \n",
       "502        0       1  \n",
       "503        1       1  \n",
       "\n",
       "[504 rows x 6 columns]"
      ]
     },
     "execution_count": 7,
     "metadata": {},
     "output_type": "execute_result"
    }
   ],
   "source": [
    "df"
   ]
  },
  {
   "cell_type": "code",
   "execution_count": 29,
   "metadata": {},
   "outputs": [],
   "source": [
    "pd.DataFrame.to_csv(df, 'aspect.csv', index=False)"
   ]
  },
  {
   "cell_type": "code",
   "execution_count": 30,
   "metadata": {},
   "outputs": [
    {
     "data": {
      "text/plain": [
       "Series([], Name: count, dtype: int64)"
      ]
     },
     "execution_count": 30,
     "metadata": {},
     "output_type": "execute_result"
    }
   ],
   "source": [
    "duplicate_values = df['Comments'].value_counts()\n",
    "duplicate_values = duplicate_values[duplicate_values > 1]\n",
    "duplicate_values"
   ]
  },
  {
   "cell_type": "code",
   "execution_count": 31,
   "metadata": {},
   "outputs": [
    {
     "data": {
      "text/plain": [
       "0      E mới mua iphone 11. Và trong máy chỉ có 1 dây...\n",
       "1      Mới mua cách đây gần một tháng. Mọi thứ đều rấ...\n",
       "2      Máy em mua ngày 12/10 đến nay ngày 3/11 chưa đ...\n",
       "3      Mình mới xài được 7 tháng xuống 7% pin. Chả hi...\n",
       "4      Đã mua, rất mượt, pin rất trâu, học online liê...\n",
       "                             ...                        \n",
       "499    Cái đầu tiên là màu gấc xink nha, đúng màu mìn...\n",
       "500    Mình xài được gần 4 tháng nhưng tình trạng pin...\n",
       "501    Mình mua xài được 2 thang minh xài rất kỹ dung...\n",
       "502    Rõ lần đầu chuyển sang iPhone mà gặp trường hợ...\n",
       "503    Máy dùng ổn, mượt mà, pin khá lâu, cũng được t...\n",
       "Name: Comments, Length: 504, dtype: object"
      ]
     },
     "execution_count": 31,
     "metadata": {},
     "output_type": "execute_result"
    }
   ],
   "source": [
    "df['Comments']"
   ]
  },
  {
   "cell_type": "code",
   "execution_count": null,
   "metadata": {},
   "outputs": [],
   "source": []
  }
 ],
 "metadata": {
  "kernelspec": {
   "display_name": "btl",
   "language": "python",
   "name": "python3"
  },
  "language_info": {
   "codemirror_mode": {
    "name": "ipython",
    "version": 3
   },
   "file_extension": ".py",
   "mimetype": "text/x-python",
   "name": "python",
   "nbconvert_exporter": "python",
   "pygments_lexer": "ipython3",
   "version": "3.12.2"
  }
 },
 "nbformat": 4,
 "nbformat_minor": 2
}
