{
 "cells": [
  {
   "cell_type": "code",
   "execution_count": 1,
   "metadata": {},
   "outputs": [],
   "source": [
    "import matplotlib.pyplot as plt\n",
    "import gradio as gr\n",
    "import numpy as np\n",
    "import plotly.express as px"
   ]
  },
  {
   "cell_type": "code",
   "execution_count": 2,
   "metadata": {},
   "outputs": [
    {
     "name": "stdout",
     "output_type": "stream",
     "text": [
      "Running on local URL:  http://127.0.0.1:7860\n",
      "\n",
      "To create a public link, set `share=True` in `launch()`.\n"
     ]
    },
    {
     "data": {
      "text/html": [
       "<div><iframe src=\"http://127.0.0.1:7860/\" width=\"100%\" height=\"500\" allow=\"autoplay; camera; microphone; clipboard-read; clipboard-write;\" frameborder=\"0\" allowfullscreen></iframe></div>"
      ],
      "text/plain": [
       "<IPython.core.display.HTML object>"
      ]
     },
     "metadata": {},
     "output_type": "display_data"
    },
    {
     "data": {
      "text/plain": []
     },
     "execution_count": 2,
     "metadata": {},
     "output_type": "execute_result"
    }
   ],
   "source": [
    "#demo\n",
    "aspects = ['Battery', 'Service', 'Others']\n",
    "aspects_ratio = (np.random.dirichlet(np.ones(3), size=1) * 100).flatten()\n",
    "\n",
    "sentiments_ratio = (np.random.dirichlet(np.ones(3), size=1) * 100).flatten()\n",
    "sentiments = ['Positive', 'Negative', 'Neutral']\n",
    "\n",
    "aspects_polarity = []\n",
    "aspects_polarity_ratio = (np.random.dirichlet(np.ones(9), size=1) * 100).flatten()\n",
    "for aspect in aspects:\n",
    "    for sentiment in sentiments:\n",
    "        aspects_polarity.append(aspect + '#' + sentiment)    \n",
    "\n",
    "def sentiment_analysis(text, aspect):\n",
    "\n",
    "    # Tạo biểu đồ cảm xúc theo aspect\n",
    "    pie_sentiments_of_an_aspect = draw_pie_sentiments_of_an_aspect(aspect)\n",
    "\n",
    "    #Biểu đồ aspect\n",
    "    pie_of_all_aspect = draw_pie_of_aspect()\n",
    "\n",
    "    #Biểu đồ aspect#polirity\n",
    "    pie_aspect_polarity = draw_pie_aspect_polarity()\n",
    "\n",
    "    return (pie_sentiments_of_an_aspect, pie_of_all_aspect, pie_aspect_polarity)\n",
    "\n",
    "def draw_pie_sentiments_of_an_aspect(aspect):\n",
    "    sentiments_ratio = (np.random.dirichlet(np.ones(3), size=1) * 100).flatten()\n",
    "    pie_sentiments_of_an_aspect = px.pie(values=sentiments_ratio, names=sentiments, title=aspect)\n",
    "    pie_sentiments_of_an_aspect.update_traces(textinfo='percent')\n",
    "    pie_sentiments_of_an_aspect.update_traces(textposition=['inside' if ratio > 5 else 'outside' for ratio in sentiments_ratio])\n",
    "    pie_sentiments_of_an_aspect.update_layout(title_x=0.465)\n",
    "    return pie_sentiments_of_an_aspect\n",
    "\n",
    "def draw_pie_of_aspect():\n",
    "    pie_of_aspect = px.pie(values=aspects_ratio, names=aspects, title='Aspect')\n",
    "    pie_of_aspect.update_traces(textinfo='percent')\n",
    "    pie_of_aspect.update_traces(textposition=['inside' if ratio > 5 else 'outside' for ratio in aspects_ratio])\n",
    "    pie_of_aspect.update_layout(title_x=0.45)\n",
    "    return pie_of_aspect\n",
    "\n",
    "def draw_pie_aspect_polarity():\n",
    "    pie_aspect_polarity = px.pie(values=aspects_polarity_ratio, names=aspects_polarity, title='Aspect#Polarity')\n",
    "    pie_aspect_polarity.update_traces(textinfo='percent')\n",
    "    pie_aspect_polarity.update_traces(textposition=[ 'inside' if ratio > 5 else 'outside' for ratio in aspects_polarity_ratio])\n",
    "    pie_aspect_polarity.update_layout(legend=dict(orientation=\"v\", yanchor=\"top\", y=1, xanchor=\"right\", x=1))\n",
    "    pie_aspect_polarity.update_layout(title_x=0.489)\n",
    "    return pie_aspect_polarity\n",
    "\n",
    "def submit(comment, aspect):\n",
    "    pie_plot = sentiment_analysis(comment, aspect)\n",
    "    return {\n",
    "        output_plot1: gr.Column(visible=True),\n",
    "        output_plot2: gr.Column(visible=True), \n",
    "        pie_sentiment: pie_plot[0],\n",
    "        pie_all_aspect: pie_plot[1],\n",
    "        pie_aspect_polarity: pie_plot[2]\n",
    "    }\n",
    "    \n",
    "\n",
    "with gr.Blocks() as demo:\n",
    "    with gr.Row():\n",
    "        text_box = gr.Textbox(placeholder=\"Write your comment here...\", visible=True, label=\"Comment\")\n",
    "        submit_btn = gr.Button(value=\"Submit\")\n",
    "    with gr.Row(visible=False) as output_plot1:\n",
    "        with gr.Column():\n",
    "            with gr.Row():\n",
    "                choose_aspect_dropdown = gr.Dropdown(\n",
    "                    choices=['General', 'Battery', 'Service', 'Others'], \n",
    "                    label=\"Choose Aspect\",\n",
    "                    value='General',\n",
    "                    )\n",
    "                sentiment = ''\n",
    "                # sentiment_report = gr.Button(sentiments[sentiments_ratio.argmax()])\n",
    "            pie_sentiment = gr.Plot()\n",
    "        pie_all_aspect = gr.Plot() \n",
    "    with gr.Row(visible=False) as output_plot2:\n",
    "        pie_aspect_polarity = gr.Plot(visible=False)\n",
    "\n",
    "    choose_aspect_dropdown.select(\n",
    "            fn = draw_pie_sentiments_of_an_aspect,\n",
    "            inputs = [choose_aspect_dropdown],\n",
    "            outputs = [pie_sentiment],\n",
    "        )\n",
    "\n",
    "    submit_btn.click(\n",
    "    fn = submit,\n",
    "    inputs = [text_box, choose_aspect_dropdown],\n",
    "    outputs = [output_plot1, output_plot2, pie_sentiment, pie_all_aspect, pie_aspect_polarity],\n",
    ")\n",
    "\n",
    "demo.launch(share=False)"
   ]
  },
  {
   "cell_type": "code",
   "execution_count": null,
   "metadata": {},
   "outputs": [],
   "source": []
  },
  {
   "cell_type": "code",
   "execution_count": 3,
   "metadata": {},
   "outputs": [
    {
     "name": "stdout",
     "output_type": "stream",
     "text": [
      "Running on local URL:  http://127.0.0.1:7862\n",
      "\n",
      "To create a public link, set `share=True` in `launch()`.\n"
     ]
    },
    {
     "data": {
      "text/html": [
       "<div><iframe src=\"http://127.0.0.1:7862/\" width=\"100%\" height=\"500\" allow=\"autoplay; camera; microphone; clipboard-read; clipboard-write;\" frameborder=\"0\" allowfullscreen></iframe></div>"
      ],
      "text/plain": [
       "<IPython.core.display.HTML object>"
      ]
     },
     "metadata": {},
     "output_type": "display_data"
    },
    {
     "data": {
      "text/plain": []
     },
     "execution_count": 3,
     "metadata": {},
     "output_type": "execute_result"
    }
   ],
   "source": [
    "import gradio as gr\n",
    "\n",
    "with gr.Blocks() as demo:\n",
    "    error_box = gr.Textbox(label=\"Error\", visible=False)\n",
    "\n",
    "    name_box = gr.Textbox(label=\"Name\")\n",
    "    age_box = gr.Number(label=\"Age\", minimum=0, maximum=100)\n",
    "    symptoms_box = gr.CheckboxGroup([\"Cough\", \"Fever\", \"Runny Nose\"])\n",
    "    submit_btn = gr.Button(\"Submit\")\n",
    "\n",
    "    with gr.Column(visible=False) as output_col:\n",
    "        diagnosis_box = gr.Textbox(label=\"Diagnosis\")\n",
    "        patient_summary_box = gr.Textbox(label=\"Patient Summary\")\n",
    "\n",
    "    def submit(name, age, symptoms):\n",
    "        if len(name) == 0:\n",
    "            return {error_box: gr.Textbox(value=\"Enter name\", visible=True)}\n",
    "        return {\n",
    "            output_col: gr.Column(visible=True),\n",
    "            diagnosis_box: \"covid\" if \"Cough\" in symptoms else \"flu\",\n",
    "            patient_summary_box: f\"{name}, {age} y/o\",\n",
    "        }\n",
    "\n",
    "    submit_btn.click(\n",
    "        submit,\n",
    "        [name_box, age_box, symptoms_box],\n",
    "        [error_box, diagnosis_box, patient_summary_box, output_col],\n",
    "    )\n",
    "\n",
    "demo.launch()\n"
   ]
  },
  {
   "cell_type": "code",
   "execution_count": 25,
   "metadata": {},
   "outputs": [
    {
     "name": "stdout",
     "output_type": "stream",
     "text": [
      "Running on local URL:  http://127.0.0.1:7876\n",
      "\n",
      "To create a public link, set `share=True` in `launch()`.\n"
     ]
    },
    {
     "data": {
      "text/html": [
       "<div><iframe src=\"http://127.0.0.1:7876/\" width=\"100%\" height=\"500\" allow=\"autoplay; camera; microphone; clipboard-read; clipboard-write;\" frameborder=\"0\" allowfullscreen></iframe></div>"
      ],
      "text/plain": [
       "<IPython.core.display.HTML object>"
      ]
     },
     "metadata": {},
     "output_type": "display_data"
    },
    {
     "data": {
      "text/plain": []
     },
     "execution_count": 25,
     "metadata": {},
     "output_type": "execute_result"
    }
   ],
   "source": [
    "\n",
    "\n",
    "def preprocess(text):\n",
    "    # Preprocess text (username and link placeholders)\n",
    "    new_text = []\n",
    "    for t in text.split(\" \"):\n",
    "        t = '@user' if t.startswith('@') and len(t) > 1 else t\n",
    "        t = 'http' if t.startswith('http') else t\n",
    "        new_text.append(t)\n",
    "    return \" \".join(new_text)\n",
    "\n",
    "def sentiment_analysis(text):\n",
    "    scores = [0.1, 0.2, 0.7]\n",
    "\n",
    "    # Map the scores to labels\n",
    "    labels = ['Negative', 'Neutral', 'Positive']\n",
    "    scores_dict = {label: score for label, score in zip(labels, scores)}\n",
    "\n",
    "    return scores_dict\n",
    "\n",
    "title = \"Sentiment Analysis Application\\n\\n\\nThis application assesses if a twitter post relating to vaccination is positive,neutral or negative\"\n",
    "\n",
    "demo = gr.Interface(\n",
    "    fn=sentiment_analysis,\n",
    "    inputs=gr.Textbox(placeholder=\"Write your tweet here...\"),\n",
    "    outputs=gr.Label(num_top_classes=3),\n",
    "    examples=[[\"The Vaccine is harmful!\"],[\"I cant believe people don't vaccinate their kids\"],[\"FDA think just not worth the AE unfortunately\"],[\"For a vaccine given to healthy\"]],\n",
    "     title=title\n",
    ")\n",
    "\n",
    "demo.launch(share=False)"
   ]
  },
  {
   "cell_type": "code",
   "execution_count": null,
   "metadata": {},
   "outputs": [],
   "source": []
  }
 ],
 "metadata": {
  "kernelspec": {
   "display_name": "btl",
   "language": "python",
   "name": "python3"
  },
  "language_info": {
   "codemirror_mode": {
    "name": "ipython",
    "version": 3
   },
   "file_extension": ".py",
   "mimetype": "text/x-python",
   "name": "python",
   "nbconvert_exporter": "python",
   "pygments_lexer": "ipython3",
   "version": "3.12.2"
  }
 },
 "nbformat": 4,
 "nbformat_minor": 2
}
