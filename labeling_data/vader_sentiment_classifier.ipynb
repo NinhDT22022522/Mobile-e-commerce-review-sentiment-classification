{
 "cells": [
  {
   "cell_type": "code",
   "execution_count": 36,
   "metadata": {},
   "outputs": [],
   "source": [
    "from vaderSentiment.vaderSentiment import SentimentIntensityAnalyzer\n",
    "import pandas as pd"
   ]
  },
  {
   "cell_type": "code",
   "execution_count": 37,
   "metadata": {},
   "outputs": [],
   "source": [
    "# Đường dẫn tương đối đến thư mục chứa file CSV\n",
    "folder_path = \"data_and_crawl_data\"\n",
    "\n",
    "# Tên file CSV\n",
    "file_name = \"comments.csv\"\n",
    "\n",
    "# Đường dẫn đến file CSV (kết hợp đường dẫn thư mục và tên file)\n",
    "file_path = \"../\" + folder_path + \"/\" + file_name\n",
    "\n",
    "\n",
    "df = pd.read_csv(file_path)"
   ]
  },
  {
   "cell_type": "code",
   "execution_count": 38,
   "metadata": {},
   "outputs": [
    {
     "data": {
      "text/html": [
       "<div>\n",
       "<style scoped>\n",
       "    .dataframe tbody tr th:only-of-type {\n",
       "        vertical-align: middle;\n",
       "    }\n",
       "\n",
       "    .dataframe tbody tr th {\n",
       "        vertical-align: top;\n",
       "    }\n",
       "\n",
       "    .dataframe thead th {\n",
       "        text-align: right;\n",
       "    }\n",
       "</style>\n",
       "<table border=\"1\" class=\"dataframe\">\n",
       "  <thead>\n",
       "    <tr style=\"text-align: right;\">\n",
       "      <th></th>\n",
       "      <th>Comments</th>\n",
       "      <th>n_stars</th>\n",
       "      <th>Label</th>\n",
       "    </tr>\n",
       "  </thead>\n",
       "  <tbody>\n",
       "    <tr>\n",
       "      <th>0</th>\n",
       "      <td>Tạm ổn</td>\n",
       "      <td>3</td>\n",
       "      <td>NaN</td>\n",
       "    </tr>\n",
       "    <tr>\n",
       "      <th>1</th>\n",
       "      <td>Nhân viên tư vấn thân thiệt và nhiệt tình</td>\n",
       "      <td>5</td>\n",
       "      <td>NaN</td>\n",
       "    </tr>\n",
       "    <tr>\n",
       "      <th>2</th>\n",
       "      <td>sao pin con này bị sao vậy shop</td>\n",
       "      <td>5</td>\n",
       "      <td>NaN</td>\n",
       "    </tr>\n",
       "    <tr>\n",
       "      <th>3</th>\n",
       "      <td>Mình mua iphone 15 pro max 256 màu tự nhiên mớ...</td>\n",
       "      <td>4</td>\n",
       "      <td>NaN</td>\n",
       "    </tr>\n",
       "    <tr>\n",
       "      <th>4</th>\n",
       "      <td>Chẳng có gì để chê, Pin rất trâu và sạc rất nh...</td>\n",
       "      <td>5</td>\n",
       "      <td>NaN</td>\n",
       "    </tr>\n",
       "  </tbody>\n",
       "</table>\n",
       "</div>"
      ],
      "text/plain": [
       "                                            Comments  n_stars  Label\n",
       "0                                             Tạm ổn        3    NaN\n",
       "1          Nhân viên tư vấn thân thiệt và nhiệt tình        5    NaN\n",
       "2                    sao pin con này bị sao vậy shop        5    NaN\n",
       "3  Mình mua iphone 15 pro max 256 màu tự nhiên mớ...        4    NaN\n",
       "4  Chẳng có gì để chê, Pin rất trâu và sạc rất nh...        5    NaN"
      ]
     },
     "execution_count": 38,
     "metadata": {},
     "output_type": "execute_result"
    }
   ],
   "source": [
    "df.head()"
   ]
  },
  {
   "cell_type": "code",
   "execution_count": 39,
   "metadata": {},
   "outputs": [],
   "source": [
    "comments = df.Comments"
   ]
  },
  {
   "cell_type": "code",
   "execution_count": 40,
   "metadata": {},
   "outputs": [
    {
     "data": {
      "text/plain": [
       "0                                                  Tạm ổn\n",
       "1               Nhân viên tư vấn thân thiệt và nhiệt tình\n",
       "2                         sao pin con này bị sao vậy shop\n",
       "3       Mình mua iphone 15 pro max 256 màu tự nhiên mớ...\n",
       "4       Chẳng có gì để chê, Pin rất trâu và sạc rất nh...\n",
       "                              ...                        \n",
       "1309                                                   Ok\n",
       "1310    Ok . nhưng mau hết PIN . bù lại hổ trợ xạc nha...\n",
       "1311                                 Dùng tốt so với giá.\n",
       "1312                       Máy hơi nóng, nói chung tạm ổn\n",
       "1313    Cấu hình ổn. Mỗi tội mau nóng máy vs tụt pin q...\n",
       "Name: Comments, Length: 1314, dtype: object"
      ]
     },
     "execution_count": 40,
     "metadata": {},
     "output_type": "execute_result"
    }
   ],
   "source": [
    "comments"
   ]
  },
  {
   "cell_type": "code",
   "execution_count": 41,
   "metadata": {},
   "outputs": [],
   "source": [
    "analyzer = SentimentIntensityAnalyzer()\n",
    "labels = []\n",
    "for comment in comments:\n",
    "    vs = analyzer.polarity_scores(comment)\n",
    "    if vs[\"compound\"] >= 0.05:\n",
    "        labels.append(\"positive\")\n",
    "    elif vs[\"compound\"] > -0.05: \n",
    "        labels.append(\"neutral\")\n",
    "    elif vs[\"compound\"] <= -0.05:\n",
    "        labels.append(\"negative\")\n"
   ]
  },
  {
   "cell_type": "code",
   "execution_count": 42,
   "metadata": {},
   "outputs": [],
   "source": [
    "new_labels = pd.Series(labels)"
   ]
  },
  {
   "cell_type": "code",
   "execution_count": 43,
   "metadata": {},
   "outputs": [
    {
     "data": {
      "text/plain": [
       "0    neutral\n",
       "1    neutral\n",
       "2    neutral\n",
       "3    neutral\n",
       "4    neutral\n",
       "dtype: object"
      ]
     },
     "execution_count": 43,
     "metadata": {},
     "output_type": "execute_result"
    }
   ],
   "source": [
    "new_labels.head()"
   ]
  },
  {
   "cell_type": "code",
   "execution_count": 44,
   "metadata": {},
   "outputs": [
    {
     "data": {
      "text/plain": [
       "(1314,)"
      ]
     },
     "execution_count": 44,
     "metadata": {},
     "output_type": "execute_result"
    }
   ],
   "source": [
    "new_labels.shape"
   ]
  },
  {
   "cell_type": "code",
   "execution_count": 45,
   "metadata": {},
   "outputs": [],
   "source": [
    "new_comments = pd.Series(comments)"
   ]
  },
  {
   "cell_type": "code",
   "execution_count": 46,
   "metadata": {},
   "outputs": [
    {
     "data": {
      "text/plain": [
       "0                                               Tạm ổn\n",
       "1            Nhân viên tư vấn thân thiệt và nhiệt tình\n",
       "2                      sao pin con này bị sao vậy shop\n",
       "3    Mình mua iphone 15 pro max 256 màu tự nhiên mớ...\n",
       "4    Chẳng có gì để chê, Pin rất trâu và sạc rất nh...\n",
       "Name: Comments, dtype: object"
      ]
     },
     "execution_count": 46,
     "metadata": {},
     "output_type": "execute_result"
    }
   ],
   "source": [
    "new_comments.head()"
   ]
  },
  {
   "cell_type": "code",
   "execution_count": 47,
   "metadata": {},
   "outputs": [
    {
     "data": {
      "text/plain": [
       "(1314,)"
      ]
     },
     "execution_count": 47,
     "metadata": {},
     "output_type": "execute_result"
    }
   ],
   "source": [
    "new_comments.shape"
   ]
  },
  {
   "cell_type": "code",
   "execution_count": 48,
   "metadata": {},
   "outputs": [],
   "source": [
    "new_df = pd.concat([new_comments, new_labels], axis=1)"
   ]
  },
  {
   "cell_type": "code",
   "execution_count": 49,
   "metadata": {},
   "outputs": [
    {
     "data": {
      "text/html": [
       "<div>\n",
       "<style scoped>\n",
       "    .dataframe tbody tr th:only-of-type {\n",
       "        vertical-align: middle;\n",
       "    }\n",
       "\n",
       "    .dataframe tbody tr th {\n",
       "        vertical-align: top;\n",
       "    }\n",
       "\n",
       "    .dataframe thead th {\n",
       "        text-align: right;\n",
       "    }\n",
       "</style>\n",
       "<table border=\"1\" class=\"dataframe\">\n",
       "  <thead>\n",
       "    <tr style=\"text-align: right;\">\n",
       "      <th></th>\n",
       "      <th>Comments</th>\n",
       "      <th>0</th>\n",
       "    </tr>\n",
       "  </thead>\n",
       "  <tbody>\n",
       "    <tr>\n",
       "      <th>0</th>\n",
       "      <td>Tạm ổn</td>\n",
       "      <td>neutral</td>\n",
       "    </tr>\n",
       "    <tr>\n",
       "      <th>1</th>\n",
       "      <td>Nhân viên tư vấn thân thiệt và nhiệt tình</td>\n",
       "      <td>neutral</td>\n",
       "    </tr>\n",
       "    <tr>\n",
       "      <th>2</th>\n",
       "      <td>sao pin con này bị sao vậy shop</td>\n",
       "      <td>neutral</td>\n",
       "    </tr>\n",
       "    <tr>\n",
       "      <th>3</th>\n",
       "      <td>Mình mua iphone 15 pro max 256 màu tự nhiên mớ...</td>\n",
       "      <td>neutral</td>\n",
       "    </tr>\n",
       "    <tr>\n",
       "      <th>4</th>\n",
       "      <td>Chẳng có gì để chê, Pin rất trâu và sạc rất nh...</td>\n",
       "      <td>neutral</td>\n",
       "    </tr>\n",
       "    <tr>\n",
       "      <th>5</th>\n",
       "      <td>Mới dùng 1thang thì còn 99% có sao k ạ Có csbh...</td>\n",
       "      <td>neutral</td>\n",
       "    </tr>\n",
       "    <tr>\n",
       "      <th>6</th>\n",
       "      <td>mik mới mua dc 16 ngày lỗi không nhận sim cái ...</td>\n",
       "      <td>neutral</td>\n",
       "    </tr>\n",
       "    <tr>\n",
       "      <th>7</th>\n",
       "      <td>Mình dùng 4 tháng thấy máy rất ok nhé . Pin vẫ...</td>\n",
       "      <td>positive</td>\n",
       "    </tr>\n",
       "    <tr>\n",
       "      <th>8</th>\n",
       "      <td>Sạc pin nhanh, rất đã.</td>\n",
       "      <td>neutral</td>\n",
       "    </tr>\n",
       "    <tr>\n",
       "      <th>9</th>\n",
       "      <td>Ok</td>\n",
       "      <td>positive</td>\n",
       "    </tr>\n",
       "  </tbody>\n",
       "</table>\n",
       "</div>"
      ],
      "text/plain": [
       "                                            Comments         0\n",
       "0                                             Tạm ổn   neutral\n",
       "1          Nhân viên tư vấn thân thiệt và nhiệt tình   neutral\n",
       "2                    sao pin con này bị sao vậy shop   neutral\n",
       "3  Mình mua iphone 15 pro max 256 màu tự nhiên mớ...   neutral\n",
       "4  Chẳng có gì để chê, Pin rất trâu và sạc rất nh...   neutral\n",
       "5  Mới dùng 1thang thì còn 99% có sao k ạ Có csbh...   neutral\n",
       "6  mik mới mua dc 16 ngày lỗi không nhận sim cái ...   neutral\n",
       "7  Mình dùng 4 tháng thấy máy rất ok nhé . Pin vẫ...  positive\n",
       "8                             Sạc pin nhanh, rất đã.   neutral\n",
       "9                                                 Ok  positive"
      ]
     },
     "execution_count": 49,
     "metadata": {},
     "output_type": "execute_result"
    }
   ],
   "source": [
    "new_df.head(10)"
   ]
  },
  {
   "cell_type": "code",
   "execution_count": 55,
   "metadata": {},
   "outputs": [],
   "source": [
    "# Đổi tên cột thành 'Labels'\n",
    "new_df1 = new_df.rename(columns={0: 'Labels', 1: 'Comments'})"
   ]
  },
  {
   "cell_type": "code",
   "execution_count": 56,
   "metadata": {},
   "outputs": [
    {
     "data": {
      "text/html": [
       "<div>\n",
       "<style scoped>\n",
       "    .dataframe tbody tr th:only-of-type {\n",
       "        vertical-align: middle;\n",
       "    }\n",
       "\n",
       "    .dataframe tbody tr th {\n",
       "        vertical-align: top;\n",
       "    }\n",
       "\n",
       "    .dataframe thead th {\n",
       "        text-align: right;\n",
       "    }\n",
       "</style>\n",
       "<table border=\"1\" class=\"dataframe\">\n",
       "  <thead>\n",
       "    <tr style=\"text-align: right;\">\n",
       "      <th></th>\n",
       "      <th>Comments</th>\n",
       "      <th>Labels</th>\n",
       "    </tr>\n",
       "  </thead>\n",
       "  <tbody>\n",
       "    <tr>\n",
       "      <th>0</th>\n",
       "      <td>Tạm ổn</td>\n",
       "      <td>neutral</td>\n",
       "    </tr>\n",
       "    <tr>\n",
       "      <th>1</th>\n",
       "      <td>Nhân viên tư vấn thân thiệt và nhiệt tình</td>\n",
       "      <td>neutral</td>\n",
       "    </tr>\n",
       "    <tr>\n",
       "      <th>2</th>\n",
       "      <td>sao pin con này bị sao vậy shop</td>\n",
       "      <td>neutral</td>\n",
       "    </tr>\n",
       "    <tr>\n",
       "      <th>3</th>\n",
       "      <td>Mình mua iphone 15 pro max 256 màu tự nhiên mớ...</td>\n",
       "      <td>neutral</td>\n",
       "    </tr>\n",
       "    <tr>\n",
       "      <th>4</th>\n",
       "      <td>Chẳng có gì để chê, Pin rất trâu và sạc rất nh...</td>\n",
       "      <td>neutral</td>\n",
       "    </tr>\n",
       "  </tbody>\n",
       "</table>\n",
       "</div>"
      ],
      "text/plain": [
       "                                            Comments   Labels\n",
       "0                                             Tạm ổn  neutral\n",
       "1          Nhân viên tư vấn thân thiệt và nhiệt tình  neutral\n",
       "2                    sao pin con này bị sao vậy shop  neutral\n",
       "3  Mình mua iphone 15 pro max 256 màu tự nhiên mớ...  neutral\n",
       "4  Chẳng có gì để chê, Pin rất trâu và sạc rất nh...  neutral"
      ]
     },
     "execution_count": 56,
     "metadata": {},
     "output_type": "execute_result"
    }
   ],
   "source": [
    "new_df1.head()"
   ]
  },
  {
   "cell_type": "code",
   "execution_count": 57,
   "metadata": {},
   "outputs": [],
   "source": [
    "# Lưu DataFrame thành file CSV\n",
    "new_df1.to_csv('data_after_classify_by_vader.csv', index=True)  # index=False để không lưu cột index của DataFrame"
   ]
  }
 ],
 "metadata": {
  "kernelspec": {
   "display_name": "test",
   "language": "python",
   "name": "python3"
  },
  "language_info": {
   "codemirror_mode": {
    "name": "ipython",
    "version": 3
   },
   "file_extension": ".py",
   "mimetype": "text/x-python",
   "name": "python",
   "nbconvert_exporter": "python",
   "pygments_lexer": "ipython3",
   "version": "3.10.10"
  }
 },
 "nbformat": 4,
 "nbformat_minor": 2
}
